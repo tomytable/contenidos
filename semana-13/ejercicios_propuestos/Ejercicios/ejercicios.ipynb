{
 "cells": [
  {
   "cell_type": "markdown",
   "metadata": {},
   "source": [
    "<h1>Ejercicio 1: IO y las imágenes</h1>\n",
    "    En el siguiente ejercicio, se te entrega el archivo imagen.bmp. Tu deber es \"encriptarla\", para volver no legible. \n",
    "    Posteriormente, deberás crear \"la llave\", que te permita devolver la imagen a su estado original. Para esto deberás seguir los siguientes pasos:\n",
    "    \n",
    "1. Para encriptar, deberás:\n",
    "    - Leer la imagen como bytes\n",
    "    - Ir guardando los chunks en un bytearray\n",
    "    - Deberás procesar la imagen en chunks de 10 bytes\n",
    "    - A cada uno de esos chunks, deberás agregarle ceros hasta llegar a los 20 bytes\n",
    "    - Agregar al bytearray creado para tu archivo encriptado los chunks rellenados.\n",
    "    - Escribir el nuevo archivo con el nombre \"imagen_virus.jpg\"\n",
    "\n",
    "2. Para crear la función llave que desencripte el archivo:\n",
    "    - Crear un bytearray para los bytes recuperados.\n",
    "    - Leer el archivo como bytes\n",
    "    - Iterar sobrecada uno de los chunks (Recuerda que los nuevos bytes están organizados de a 20)\n",
    "    - Recuperar los bytes originales.\n",
    "    - Juntar los bytes recuperados en tu nuevo bytearray\n",
    "    - Escribir el nuevo archivo con el nombre de \"imagen_recuperada.jpg\"\n",
    "        "
   ]
  },
  {
   "cell_type": "code",
   "execution_count": 2,
   "metadata": {},
   "outputs": [],
   "source": [
    "def transforma_a_byter(path_imagen):\n",
    "    pass\n",
    "\n",
    "def quita_virus(path_imagen):\n",
    "    pass\n",
    "\n",
    "\n",
    "transforma_a_byter(\"imagen.bmp\")\n",
    "quita_virus(\"imagen_virus.jpg\")\n"
   ]
  },
  {
   "cell_type": "markdown",
   "metadata": {},
   "source": [
    "<h1>Ejercicio 2: Serialización usando Pickle y JSON</h1>\n",
    "\n",
    "Eres conocid@ por tod@s por tu gran amor al cine, razón por la cual tu novia Victoria te ha pedido que por favor le recomiendes películas buenas para poder ver. Para hacer esta recomendación, debes hacer uso del archivo `movies.json`. \n",
    "Este archivo tiene un diccionario por película con varias características, de las cuales solamente debes guardar algunas. El procedimiento que debes llevar a cabo es el siguiente:\n",
    "\n",
    "1. Completar la funcion `cargar_películas()` que debe deserializar la información de las películas del archivo `movies.json`, solamente incluyendo los datos que son relevantes especificados en el archivo `caracteristicas.pkl`, mediante la funcion `hook_peliculas()`. Esta última debe retorna una lista de objetos de la clase Pelicula. Notar que el archivo `caracteristicas.pkl` también debe ser deserializado, utilizando Pickle, para obtener la información en el.\n",
    "2. Completar la función `recomendar_peliculas(lista_peliculas)` que recibe una lista de objetos de la clase Pelicula. Esta debe ser capaz de serializar, mediante Pickle, cada película en un archivo llamado `recomendaciones.pkl`. Para la serialización, debes completar el método `__getstate__()` para poder agregar una opinión (tu recomendación) al diccionario a serializar de cada película. Notar que los strings de opinión a elegir se encuentran en el archivo `opiniones.pkl`, por lo que debes deserializar este también, mediante Pickle, para obtenerlas. Puedes usar la librería `random` importada para elegir una opinión al azar.\n",
    "\n",
    "\n",
    "\n",
    "\n",
    "\n"
   ]
  },
  {
   "cell_type": "code",
   "execution_count": null,
   "metadata": {},
   "outputs": [],
   "source": [
    "import json\n",
    "import pickle\n",
    "import random\n",
    "\n",
    " \n",
    "class Pelicula:\n",
    "\n",
    "    def __init__(self, title=None, category_name=None, release_year=None, running_time=None):\n",
    "\n",
    "        self.title = title\n",
    "        self.category_name = category_name\n",
    "        self.release_year = release_year\n",
    "        self.running_time = running_time\n",
    "\n",
    "    def __getstate__(self):\n",
    "        \"\"\"\n",
    "        Aquí debes personalizar la serialización de las películas, agregando una opinion al \n",
    "        diccionario. Recuerda obtener las opiniones deserializando el archivo opiniones.pkl \n",
    "        con Pickle.\n",
    "        \"\"\"\n",
    "        pass\n",
    "\n",
    "\n",
    "def hook_peliculas(peliculas):\n",
    "    \"\"\"\n",
    "    Debes utilizar esta función para personalizar la deserialización de las películas en \n",
    "    movies.json.\n",
    "    \"\"\"\n",
    "    pass\n",
    "\n",
    "\n",
    "def cargar_peliculas():\n",
    "    \"\"\"\n",
    "    Esta función debe deserializar la información de cada película, pero icluyendo solamente la\n",
    "    información especificada en caracteristicas.pkl (este archivo debe ser deserializado con Pickle) \n",
    "    utilizando la función hook_peliculas() para el filtrado.\n",
    "    \"\"\"\n",
    "    pass\n",
    "\n",
    "\n",
    "def recomendar_peliculas(peliculas):\n",
    "    \"\"\"\n",
    "    Se deben serializar las películas en el archivo caracteristicas.pkl utilizando Pickle, \n",
    "    incluyendo un mensaje de opinión mediante el método __getstate__() de la clase Pelicula.\n",
    "    \"\"\"\n",
    "    pass"
   ]
  },
  {
   "cell_type": "code",
   "execution_count": null,
   "metadata": {},
   "outputs": [],
   "source": [
    "# Main code\n",
    "\"\"\"\n",
    "Al correr este código, deberías obtener un archivo llamado recomendacion.pkl con la información\n",
    "de cada película y la opinion para cada una de estas.\n",
    "\"\"\"\n",
    "peliculas = cargar_peliculas()\n",
    "recomendar_peliculas(peliculas)"
   ]
  },
  {
   "cell_type": "code",
   "execution_count": null,
   "metadata": {},
   "outputs": [],
   "source": [
    "\"\"\"\n",
    "El siguiente código puede ser corrido para comprobar que se realizo el ejercicio correctamente.\n",
    "Deberían imprimirse diccionarios por película, con todas las caracteristicas de cada película del \n",
    "archivo caracteristicas.pkl como keys y una key \"opinion\" que tiene como value alguna de las tres \n",
    "opiniones del archivo opiniones.pkl.\n",
    "\"\"\"\n",
    "\n",
    "with open(\"recomendacion.pkl\", \"rb\") as file:\n",
    "    peliculas_recomendadas = list()\n",
    "    while True:\n",
    "        try:\n",
    "            peliculas_recomendadas.append(pickle.load(file))\n",
    "        except EOFError:\n",
    "            break\n",
    "for p in peliculas_recomendadas:\n",
    "    print(p.__dict__)\n"
   ]
  },
  {
   "cell_type": "markdown",
   "metadata": {},
   "source": [
    "<h1> Ejercicio 3: Serialización usando JSON </h1>\n",
    "\n",
    "Durante las caóticas inscripciones de cursos para el segundo semestre del 2020 un hacker aprovechó la situación y corrompió la base de datos de los estudiantes, dejándolos con asignaturas inexistentes en el sistema. Afortunadamente, existe un archivo `asignaturas.json` en donde están los cursos disponibles. Tu trabajo será instanciar los Alumnos con los cursos correctos, filtrando (por medio de un hook) aquellos cursos que no correspondan."
   ]
  },
  {
   "cell_type": "code",
   "execution_count": 4,
   "metadata": {},
   "outputs": [
    {
     "ename": "TypeError",
     "evalue": "print() argument after * must be an iterable, not NoneType",
     "output_type": "error",
     "traceback": [
      "\u001b[1;31m---------------------------------------------------------------------------\u001b[0m",
      "\u001b[1;31mTypeError\u001b[0m                                 Traceback (most recent call last)",
      "\u001b[1;32m<ipython-input-4-13588a3715d5>\u001b[0m in \u001b[0;36m<module>\u001b[1;34m\u001b[0m\n\u001b[0;32m     30\u001b[0m     \u001b[1;32mpass\u001b[0m\u001b[1;33m\u001b[0m\u001b[1;33m\u001b[0m\u001b[0m\n\u001b[0;32m     31\u001b[0m \u001b[1;33m\u001b[0m\u001b[0m\n\u001b[1;32m---> 32\u001b[1;33m \u001b[0mprint\u001b[0m\u001b[1;33m(\u001b[0m\u001b[1;33m*\u001b[0m\u001b[0mlista_alumnos\u001b[0m\u001b[1;33m,\u001b[0m \u001b[0msep\u001b[0m\u001b[1;33m=\u001b[0m\u001b[1;34m'\\n'\u001b[0m\u001b[1;33m)\u001b[0m\u001b[1;33m\u001b[0m\u001b[1;33m\u001b[0m\u001b[0m\n\u001b[0m",
      "\u001b[1;31mTypeError\u001b[0m: print() argument after * must be an iterable, not NoneType"
     ]
    }
   ],
   "source": [
    "import json\n",
    "\n",
    "\n",
    "class Alumno:\n",
    "    def __init__(self, nombre, num_alumno, cursos):\n",
    "        self.nombre = nombre\n",
    "        self.num_alumno = num_alumno\n",
    "        self.cursos = cursos\n",
    "\n",
    "    def __repr__(self):\n",
    "        string_cursos = ', '.join(self.cursos)\n",
    "        return f'Asignaturas de {self.nombre}: \\n{string_cursos}\\n'\n",
    "\n",
    "\n",
    "with open('asignaturas.json') as file:\n",
    "    # Modifica la linea siguiente para cargar la LISTA de asignaturas\n",
    "    asignaturas = None\n",
    "    pass\n",
    "\n",
    "\n",
    "def hook_function(diccionario):\n",
    "    # Completa esta función para deserializar los alumnos.\n",
    "    # Debes dejar solamente las asignaturas presentes en la lista cargada arriba\n",
    "    pass\n",
    "\n",
    "\n",
    "with open('alumnos.json', \"r\") as file:\n",
    "    # Carga los alumnos en una lista usando object_hook\n",
    "    lista_alumnos = None\n",
    "    pass\n",
    "\n",
    "print(*lista_alumnos, sep='\\n')"
   ]
  }
 ],
 "metadata": {
  "kernelspec": {
   "display_name": "Python 3",
   "language": "python",
   "name": "python3"
  },
  "language_info": {
   "codemirror_mode": {
    "name": "ipython",
    "version": 3
   },
   "file_extension": ".py",
   "mimetype": "text/x-python",
   "name": "python",
   "nbconvert_exporter": "python",
   "pygments_lexer": "ipython3",
   "version": "3.7.6"
  }
 },
 "nbformat": 4,
 "nbformat_minor": 4
}
