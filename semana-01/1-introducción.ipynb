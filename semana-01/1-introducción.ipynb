{
 "cells": [
  {
   "cell_type": "markdown",
   "metadata": {
    "colab_type": "text",
    "id": "eWR9iZ8qQeYM"
   },
   "source": [
    "<p>\n",
    "<font size='5' face='Georgia, Arial'>IIC2233 Apunte Programación Avanzada</font><br>\n",
    "<font size='1'>&copy; 2015 Karim Pichara - Christian Pieringer. Todos los derechos reservados.</font>\n",
    "<br>\n",
    "<font size='1'> Modificado en 2017-2, 2018-1, 2018-2, 2019-1, 2019-2, 2020-1 y 2020-2 por Equipo Docente IIC2233</font>\n",
    "</p>"
   ]
  },
  {
   "cell_type": "markdown",
   "metadata": {
    "colab_type": "text",
    "id": "MEbsMjX2QeYN"
   },
   "source": [
    "# Estructuras de datos"
   ]
  },
  {
   "cell_type": "markdown",
   "metadata": {
    "colab_type": "text",
    "id": "JpbSQ296QeYO"
   },
   "source": [
    "Desde *Introducción a la Programación*,\n",
    " debemos recordar que las clases se definen por un conjunto de datos y métodos. Sin embargo, una clase muy simple puede contener solamente datos y no métodos. Esto podría verse como una simple agrupación de datos o una **estructura de datos**.\n",
    "\n",
    "En Python, para definir una estructura vacía podemos utilizar la sentencia `pass`. Esta sentencia es una **operación nula** que no produce efectos. Usualmente es utilizada en lugares donde planeamos eventualmente escribir código, pero donde si dejamos el espacio vacío provocaríamos un error sintáctico."
   ]
  },
  {
   "cell_type": "markdown",
   "metadata": {
    "colab_type": "text",
    "id": "OLs0v9iqQeYO"
   },
   "source": [
    "Por lo tanto, se entiende por **estructura de datos** a una forma especializada para agrupar datos, de tal modo que éstos puedan ser almacenados, accedidos y utilizados eficientemente. \n",
    "\n",
    "A diferencia de las variables simples como los enteros, los *strings* y los reales, las estructuras de datos involucran un alto nivel de *abstracción*. En esta semana estudiaremos el modelo conceptual de algunas estructuras de datos típicas utilizadas en ciencia de la computación, así como también su implementación en Python. \n",
    "\n",
    "La decisión de \"qué estructura de datos utilizar\" dependerá tanto del contexto de la aplicación en que se desea usar, como también de su diseño y *eficiencia* esperada. Al final de esta semana, habremos aprendido que la elección adecuada de una estructura de datos para cada situación es crucial para desarrollar un *software* eficiente."
   ]
  },
  {
   "cell_type": "markdown",
   "metadata": {},
   "source": [
    "Una manera sencilla de crear una estructura de datos simple es crear una clase. Podemos empezar creando una clase vacía que podría ser nuestra primera estructura de datos."
   ]
  },
  {
   "cell_type": "code",
   "execution_count": 1,
   "metadata": {
    "colab": {
     "autoexec": {
      "startup": false,
      "wait_interval": 0
     }
    },
    "colab_type": "code",
    "id": "4S6K5HrzQeYQ"
   },
   "outputs": [],
   "source": [
    "# Se crea una clase vacía\n",
    "class Video:\n",
    "    pass"
   ]
  },
  {
   "cell_type": "markdown",
   "metadata": {
    "colab_type": "text",
    "id": "t4JwTD6CRn_N"
   },
   "source": [
    "En Python, una vez que una clase se ha instanciado, es posible agregar atributos nuevos al objeto creado. Esta es una característica que no está soportada en todos los lenguajes. Por ejemplo, lenguajes como Java o C# no la soportan, sino que obligan a que todos los atributos se agreguen al momento de crear el objeto."
   ]
  },
  {
   "cell_type": "code",
   "execution_count": 2,
   "metadata": {
    "colab": {
     "autoexec": {
      "startup": false,
      "wait_interval": 0
     },
     "base_uri": "https://localhost:8080/",
     "height": 34,
     "output_extras": [
      {
       "item_id": 1
      }
     ]
    },
    "colab_type": "code",
    "executionInfo": {
     "elapsed": 654,
     "status": "ok",
     "timestamp": 1520876804602,
     "user": {
      "displayName": "Cristian Ruz",
      "photoUrl": "//lh4.googleusercontent.com/-0WhxkzATSqY/AAAAAAAAAAI/AAAAAAAAIqQ/WE7Rcv4pnN8/s50-c-k-no/photo.jpg",
      "userId": "108117710965209443485"
     },
     "user_tz": 180
    },
    "id": "u9eImSzmRnPQ",
    "outputId": "34dbadf6-bae8-4f88-a16b-48974fbce090"
   },
   "outputs": [
    {
     "output_type": "execute_result",
     "data": {
      "text/plain": "('avi', '1024')"
     },
     "metadata": {},
     "execution_count": 2
    }
   ],
   "source": [
    "#instanciamos la clase \n",
    "vid = Video()\n",
    "\n",
    "# Se agregan atributos nuevos, que existen solo para este objeto en particular \n",
    "vid.ext = 'avi'\n",
    "vid.size = '1024'\n",
    "\n",
    "(vid.ext, vid.size)"
   ]
  },
  {
   "cell_type": "markdown",
   "metadata": {
    "colab_type": "text",
    "id": "hTdjGWhiffJy"
   },
   "source": [
    "También es posible crear una clase sin métodos, pero con algunos atributos predefinidos. Estos atributos se agregan en el método `__init__` que se ejecuta cada vez que deseamos *inicializar* una clase."
   ]
  },
  {
   "cell_type": "code",
   "execution_count": 5,
   "metadata": {
    "colab": {
     "autoexec": {
      "startup": false,
      "wait_interval": 0
     }
    },
    "colab_type": "code",
    "id": "NS6ht3MKSAeA"
   },
   "outputs": [],
   "source": [
    "class Imagen:\n",
    "    def __init__(self):\n",
    "        self.ext = ''\n",
    "        self.size = ''\n",
    "        self.data = ''\n",
    "\n",
    "img = Imagen()\n",
    "img.ext = 'bmp'\n",
    "img.size = '8'\n",
    "img.data = [255, 255, 255, 200, 34, 35]"
   ]
  },
  {
   "cell_type": "markdown",
   "metadata": {
    "colab_type": "text",
    "id": "h0E9UfMwfvIX"
   },
   "source": [
    "Nuevamente, es posible agregar atributos nuevos a pesar de no estar declarados inicialmente. Estos atributos nuevos existen solamente dentro del objeto que hemos instanciado."
   ]
  },
  {
   "cell_type": "code",
   "execution_count": 6,
   "metadata": {
    "colab": {
     "autoexec": {
      "startup": false,
      "wait_interval": 0
     },
     "base_uri": "https://localhost:8080/",
     "height": 34,
     "output_extras": [
      {
       "item_id": 1
      }
     ]
    },
    "colab_type": "code",
    "executionInfo": {
     "elapsed": 620,
     "status": "ok",
     "timestamp": 1520879321879,
     "user": {
      "displayName": "Cristian Ruz",
      "photoUrl": "//lh4.googleusercontent.com/-0WhxkzATSqY/AAAAAAAAAAI/AAAAAAAAIqQ/WE7Rcv4pnN8/s50-c-k-no/photo.jpg",
      "userId": "108117710965209443485"
     },
     "user_tz": 180
    },
    "id": "8mkwpXDyf0-Z",
    "outputId": "fc61e268-868e-482f-ab80-62a7d8c69bbb"
   },
   "outputs": [
    {
     "output_type": "execute_result",
     "data": {
      "text/plain": "('bmp', '8', [255, 255, 255, 200, 34, 35], 20)"
     },
     "metadata": {},
     "execution_count": 6
    }
   ],
   "source": [
    "# No todas las instancias de Imagen poseen el atributo ids, pero ésta sí\n",
    "img.ids = 20\n",
    "(img.ext, img.size, img.data, img.ids)"
   ]
  },
  {
   "cell_type": "markdown",
   "metadata": {
    "colab_type": "text",
    "id": "y1kgyOnxQeYV"
   },
   "source": [
    "Si bien Python permite manejar clases y, una vez instanciadas, agregar atributos a los objetos, esto **no es una buena práctica**. Hace que el código sea más difícil de mantener y entender, y ya hemos dicho que el código se lee mucho más veces de las que se escribe.\n",
    "\n",
    "Python posee varias estructuras de datos ya implementadas (*built-ins*) para el manejo eficiente de datos. A continuación estudiaremos las más básicas de ellas. Veremos estructuras secuenciales, que mantienen un orden entre sus elementos: **listas** (*lists*), **tuplas** (*tuples*), **pilas** (*stacks*) y **colas** (*queue*); y también veremos estructuras que no mantienen un orden establecido, pero que tienen mejor comportamiento en otras situaciones: **diccionarios** (*dictionaries*) y **conjuntos** (*sets*), ."
   ]
  }
 ],
 "metadata": {
  "colab": {
   "collapsed_sections": [],
   "default_view": {},
   "name": "01-introduccion.ipynb",
   "provenance": [],
   "version": "0.3.2",
   "views": {}
  },
  "kernelspec": {
   "display_name": "Python 3",
   "language": "python",
   "name": "python3"
  },
  "language_info": {
   "codemirror_mode": {
    "name": "ipython",
    "version": 3
   },
   "file_extension": ".py",
   "mimetype": "text/x-python",
   "name": "python",
   "nbconvert_exporter": "python",
   "pygments_lexer": "ipython3",
   "version": "3.7.6-final"
  }
 },
 "nbformat": 4,
 "nbformat_minor": 1
}