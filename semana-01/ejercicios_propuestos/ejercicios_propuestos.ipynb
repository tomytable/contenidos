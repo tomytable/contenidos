{
 "cells": [
  {
   "cell_type": "code",
   "execution_count": null,
   "metadata": {},
   "outputs": [],
   "source": []
  },
  {
   "cell_type": "markdown",
   "metadata": {},
   "source": [
    "<p>\n",
    "<font size='5' face='Georgia, Arial'>IIC-2233 Apunte Programación Avanzada</font><br>\n",
    "<font size='1'> Ejercicios creados a partir de 2019-2 por Equipo Docente IIC2233. </font>\n",
    "<font size='1'> Actualizados en 2020-1.</font>\n",
    "</p>\n",
    "\n",
    "\n",
    "# Ejercicios propuestos: Estructuras de datos *built-ins*"
   ]
  },
  {
   "cell_type": "markdown",
   "metadata": {},
   "source": [
    "Los siguientes problemas se proveen como oportunidad de ejercitar los conceptos revisados en el material de **estructuras de datos *built-ins***. Si tienes dudas sobre algún problema o alguna solución, no dudes en dejar una *issue* en el [foro del curso](https://github.com/IIC2233/syllabus/issues).\n",
    "\n",
    "Los ejercicios se subdividen según la numeración de los cuadernos de la semana. Algunos de ellos se referencian desde los cuadernos de material mismo, mientras que pueden haber otros adicionales para mayor ejercitación."
   ]
  },
  {
   "cell_type": "markdown",
   "metadata": {},
   "source": [
    "## 2. Listas y tuplas"
   ]
  },
  {
   "cell_type": "markdown",
   "metadata": {},
   "source": [
    "### Ejercicio 2.1: ¡A jugar *Pro-Gra-Oh*!"
   ]
  },
  {
   "cell_type": "markdown",
   "metadata": {},
   "source": [
    "Debes simular una versión simplificada del famoso juego de cartas Pro-Gra-Oh!.\n",
    "\n",
    "Para lo anterior deberás cargar las cartas del archivo `cards.csv` (que se encuentra en este mismo directorio), en una estructura de datos adecuada, y completar las funciones que se encuentran a continuación.\n",
    "\n",
    "En una partida de este juego, cada jugador recibirá 5 cartas y atacará con una de sus cartas (aleatoriamente) a una de las cartas del otro jugador (también al azar). Al realizar el ataque, se comparan los puntos de ataque del atacante con los puntos de defensa del defensor; la carta con menor valor debe ser descartada de la mano del jugador.\n",
    "\n",
    "La partida termina cuando un jugador se queda sin cartas."
   ]
  },
  {
   "cell_type": "code",
   "execution_count": 39,
   "metadata": {
    "tags": []
   },
   "outputs": [
    {
     "output_type": "stream",
     "name": "stdout",
     "text": "Turno número 1\nJugador 1 ataca con Vylon Epsilon a Cyber Phoenix\nJugador 1 gana su ataque\nTurno número 2\nJugador 2 ataca con Dragunity Dux a Vylon Epsilon\nJugador 2 gana su ataque\nTurno número 3\nJugador 1 ataca con Inaba White Rabbit a Predaplant Cordyceps\nJugador 1 gana su ataque\nTurno número 4\nJugador 2 ataca con Deskbot 009 a Morphtronic Lantron\nJugador 2 gana su ataque\nTurno número 5\nJugador 1 ataca con Evilswarm Exciton Knight a Lord Gaia the Fierce Knight\nJugador 1 pierde su ataque\nTurno número 6\nJugador 2 ataca con Brotherhood of the Fire Fist - Dragon a Power Invader\nJugador 2 gana su ataque\nTurno número 7\nJugador 1 ataca con Autorokket Dragon a Dragunity Dux\nJugador 1 gana su ataque\nTurno número 8\nJugador 2 ataca con Deskbot 009 a Dark Magician of Chaos\nJugador 2 pierde su ataque\nTurno número 9\nJugador 1 ataca con Autorokket Dragon a Lord Gaia the Fierce Knight\nJugador 1 pierde su ataque\nTurno número 10\nJugador 2 ataca con Brotherhood of the Fire Fist - Dragon a X-Saber Uruz\nJugador 2 gana su ataque\n0.010358095169067383\n"
    }
   ],
   "source": [
    "from random import shuffle, choice\n",
    "from collections import namedtuple\n",
    "from time import time\n",
    "\n",
    "class Juego:\n",
    "    \n",
    "    def __init__(self, turnos):\n",
    "        \n",
    "        self.mazo = []\n",
    "        self.cartas_j1 = []\n",
    "        self.cartas_j2 = []\n",
    "        \n",
    "        self.read_file()\n",
    "        self.repartir_cartas()\n",
    "        self.comenzar_juego(turnos)\n",
    "    \n",
    "    def read_file(self):\n",
    "        # Leer las cartas y guardarlas en una estructura de datos adecuada\n",
    "        # NOTA: la primera fila del archivo son los atributos de las cartas\n",
    "        Cartas = namedtuple('Carta', ['nombre', 'ataque', 'defensa'])\n",
    "        with open('cards.csv', 'rt') as archivo:\n",
    "            lineas = archivo.readlines()\n",
    "            lineas = lineas[1:]  #Primera línea es atributos\n",
    "        for linea in lineas:\n",
    "            fila = linea.strip().split(',')\n",
    "            carta = Cartas(fila[0], int(fila[1]), int(fila[2]))\n",
    "            self.mazo.append(carta)\n",
    "    \n",
    "    def repartir_cartas(self):\n",
    "        # Barajar las cartas y repartirlas de a 1\n",
    "        shuffle(self.mazo)\n",
    "        for i in range(0,5):\n",
    "            self.cartas_j1.append(self.mazo.pop())\n",
    "            self.cartas_j2.append(self.mazo.pop())\n",
    "\n",
    "    def atacar(self, atacante, defensa):\n",
    "        ptos_ataque = atacante.ataque\n",
    "        ptos_defensa = defensa.defensa\n",
    "        # Rellenar aquí\n",
    "        if ptos_ataque > ptos_defensa:\n",
    "            ganador = \"atacante\"\n",
    "        else:\n",
    "            ganador = \"defensor\"\n",
    "        return ganador\n",
    "\n",
    "    def comenzar_juego(self, turnos):\n",
    "        for i in range(1, turnos + 1):\n",
    "            print(f\"Turno número {i}\")\n",
    "            if i % 2:\n",
    "                # Ataca el jugador 1\n",
    "                atacante = choice(self.cartas_j1)\n",
    "                defensor = choice(self.cartas_j2)\n",
    "                print(f\"Jugador 1 ataca con {atacante.nombre} a {defensor.nombre}\")\n",
    "                ganador = self.atacar(atacante, defensor)\n",
    "                if ganador == \"atacante\":\n",
    "                    self.cartas_j2.remove(defensor)\n",
    "                    print(\"Jugador 1 gana su ataque\")\n",
    "                    self.cartas_j2.append(self.mazo.pop())\n",
    "                else:\n",
    "                    self.cartas_j1.remove(atacante)\n",
    "                    print(\"Jugador 1 pierde su ataque\")\n",
    "                    self.cartas_j1.append(self.mazo.pop())\n",
    "            else:\n",
    "                # Ataca el jugador 2\n",
    "                atacante = choice(self.cartas_j2)\n",
    "                defensor = choice(self.cartas_j1)\n",
    "                print(f\"Jugador 2 ataca con {atacante.nombre} a {defensor.nombre}\")\n",
    "                ganador = self.atacar(atacante, defensor)\n",
    "                if ganador == \"atacante\":\n",
    "                    self.cartas_j1.remove(defensor)\n",
    "                    print(\"Jugador 2 gana su ataque\")\n",
    "                    self.cartas_j1.append(self.mazo.pop())\n",
    "                else:\n",
    "                    self.cartas_j2.remove(atacante)\n",
    "                    print(\"Jugador 2 pierde su ataque\")\n",
    "                    self.cartas_j2.append(self.mazo.pop())\n",
    "\n",
    "tiempo_inicio = time()\n",
    "juego = Juego(10)\n",
    "tiempo_final = time()\n",
    "print(tiempo_final-tiempo_inicio)"
   ]
  },
  {
   "cell_type": "markdown",
   "metadata": {},
   "source": [
    "## 3. *Stacks*"
   ]
  },
  {
   "cell_type": "markdown",
   "metadata": {},
   "source": [
    "### Ejercicio 3.1: Torre de Hanói"
   ]
  },
  {
   "cell_type": "markdown",
   "metadata": {},
   "source": [
    "Una Torre de Hanói es un rompecabezas consistente en una serie de discos perforados que deben trasladarse desde su posición inicial en el primer pilar, ordenados desde el más grande abajo hasta el más pequeño arriba, hasta la misma posición pero en el tercer pilar. Sin embargo, hay una regla importante: **debes trasladar los discos al tercer poste moviendo un disco a la vez y sin colocar un disco grande encima de uno pequeño**. Ahora implementarás tu propia versión de este rompecabezas.\n",
    "\n",
    "![](../img/hanoi-1.png)\n",
    "\n",
    "La clase `TorreDeHanoi` está conformada por 3 pilares, donde cada uno es un *stack*, ya que solo puedes añadir y quitar discos por un extremo de cada pilar. La clase viene con los métodos `__init__` y `__str__` implementados, por lo que puedes ver el estado inicial de la torre. Sin embargo, **solo con métodos de *stacks***, deberás implementar el método `mover_disco`, que recibe el número del pilar desde donde sale el disco y el número del pilar al que llega un disco. Cabe destacar que el tamaño de un disco está representado por el número contenido en el pilar (por ejemplo, el 6 representa al disco más grande y el 1 al más pequeño). Una vez que implementes este método, te retamos a hacer una función que ocupe las operaciones de *stacks* necesarias para mover el disco. **Recuerda no colocar un disco grande encima de uno pequeño**.\n",
    "\n",
    "![](../img/hanoi-2.png)\n",
    "\n",
    "**PS:** Además, te retamos a: (1) verificar que un movimiento es válido (no queda un disco grande sobre uno pequeño) y (2) crear una función que verifique si el rompecabezas fue completado correctamente . "
   ]
  },
  {
   "cell_type": "code",
   "execution_count": 5,
   "metadata": {},
   "outputs": [],
   "source": [
    "class TorreDeHanoi:\n",
    "    \n",
    "    def __init__(self):\n",
    "        self.pilar_1 = [6, 5, 4, 3, 2, 1]\n",
    "        self.pilar_2 = []\n",
    "        self.pilar_3 = []\n",
    "        \n",
    "    def mover_disco(self, pilar_origen, pilar_destino):\n",
    "        # Recuerda que debes sacar el elemento que está más arriba en el pilar de origen\n",
    "        # y colocarlo en lo más alto del pilar de destino\n",
    "        # Sacar el disco\n",
    "        if pilar_origen == 1:\n",
    "            eliminado = self.pilar_1.pop()\n",
    "        elif pilar_origen == 2:\n",
    "            eliminado = self.pilar_2.pop()\n",
    "        elif pilar_origen == 3:\n",
    "            eliminado = self.pilar_3.pop()\n",
    "        if pilar_destino == 1:\n",
    "            self.pilar_1.append(eliminado)\n",
    "        elif pilar_destino == 2:\n",
    "            self.pilar_2.append(eliminado)\n",
    "        elif pilar_destino == 3:\n",
    "            self.pilar_3.append(eliminado)\n",
    "        \n",
    "    \n",
    "    def __str__(self):\n",
    "        output = \"\"\n",
    "        # Range termina con -1 para recorrer al revés\n",
    "        for i in range(5, -1, -1):\n",
    "            fila = \" \"  # Armamos una fila a la vez, desde arriba\n",
    "            # Pilar 1\n",
    "            if len(self.pilar_1) > i:\n",
    "                fila += str(self.pilar_1[i]) + \" \"\n",
    "            else:\n",
    "                fila += \"x \"\n",
    "            # Pilar 2\n",
    "            if len(self.pilar_2) > i:\n",
    "                fila += str(self.pilar_2[i]) + \" \"\n",
    "            else:\n",
    "                fila += \"x \"\n",
    "            # Pilar 3\n",
    "            if len(self.pilar_3) > i:\n",
    "                fila += str(self.pilar_3[i]) + \" \"\n",
    "            else:\n",
    "                fila += \"x \"\n",
    "            output += fila + \"\\n\"\n",
    "        output += \"=\" * 7 + \"\\n\"\n",
    "        return output"
   ]
  },
  {
   "cell_type": "code",
   "execution_count": 9,
   "metadata": {
    "tags": []
   },
   "outputs": [
    {
     "output_type": "stream",
     "name": "stdout",
     "text": "1 x x \n 2 x x \n 3 x x \n 4 x x \n 5 x x \n 6 x x \n=======\n\n"
    }
   ],
   "source": [
    "torre_de_hanoi = TorreDeHanoi()\n",
    "print(torre_de_hanoi)"
   ]
  },
  {
   "cell_type": "code",
   "execution_count": 10,
   "metadata": {
    "tags": []
   },
   "outputs": [
    {
     "output_type": "stream",
     "name": "stdout",
     "text": "x x x \n 2 x x \n 3 x x \n 4 x x \n 5 x x \n 6 x 1 \n=======\n\n"
    }
   ],
   "source": [
    "torre_de_hanoi.mover_disco(1, 3) # Del pilar 1 al pilar 2\n",
    "print(torre_de_hanoi)"
   ]
  },
  {
   "cell_type": "markdown",
   "metadata": {},
   "source": [
    "## 4. Colas"
   ]
  },
  {
   "cell_type": "markdown",
   "metadata": {},
   "source": [
    "### Ejercicio 4.1: Comandos de Git"
   ]
  },
  {
   "cell_type": "markdown",
   "metadata": {},
   "source": [
    "En este ejercicio debes intentar simular los comandos básicos de `git`: `add`, `commit` y `push` usando, para cada una de ellos, alguna estructura básica. Para esto, se te entrega la clase `Repositorio` en donde debes completar los siguientes métodos.\n",
    "\n",
    "- `git add`: No debe dejar que suba a tu repositorio **archivos repetidos**.\n",
    "- `git commit`: Aquí confirmas los cambios que indicaste con `git add` y los dejas \"*en espera*\" según una lógica **FIFO** ( _First in, First out_ ). \n",
    "- `git push`: Se realizan los cambios pedidos en el repositorio.\n",
    "\n",
    "Por simplicidad considera que cada cambio será agregar o eliminar archivos, y no modificaciones a un archivo.\n",
    "\n",
    "Puedes empezar con el siguiente código:"
   ]
  },
  {
   "cell_type": "code",
   "execution_count": null,
   "metadata": {},
   "outputs": [],
   "source": [
    "class Repositorio:\n",
    "    \n",
    "    def __init__(self, archivos=[]):\n",
    "        self.archivos_remotos = []\n",
    "        self.archivos_locales = archivos\n",
    "        #puedes agregar más atributos si lo estimas necesario ;)\n",
    "        \n",
    "    def git_add(self, archivos):\n",
    "        #debes completar aquí\n",
    "        pass\n",
    "        \n",
    "    def git_commit(self, comentario):\n",
    "        print(comentario)\n",
    "        #debes completar aquí\n",
    "        pass\n",
    "    \n",
    "    def git_push(self):\n",
    "        #debes completar aquí\n",
    "        pass\n",
    "    \n",
    "if __name__ == \"__main__\":\n",
    "    mi_repo = Repositorio([\"main.py\", \"windows.py\", \"user.txt\"])\n",
    "    mi_repo.git_add('README.md')\n",
    "    mi_repo.git_commit('Agregado el README :D')\n",
    "    mi_repo.git_push()\n",
    "    mi_repo.git_add([\"data.json\", \"client.py\", \"user.txt\"])\n",
    "    mi_repo.git_commit(\"subiendo datos\")\n",
    "    mi_repo.git_push()\n",
    "    "
   ]
  },
  {
   "cell_type": "markdown",
   "metadata": {},
   "source": [
    "## 5. Diccionarios"
   ]
  },
  {
   "cell_type": "markdown",
   "metadata": {},
   "source": [
    "### Ejercicio 5.1: Indice de consonantes en el abecedario"
   ]
  },
  {
   "cell_type": "markdown",
   "metadata": {},
   "source": [
    "A continuación, se te entrega código que tiene dentro de la variable `letras` un *string* que contiene en orden los caracteres del idioma ingles en orden, desde la `'a'` hasta la `'z'`. Con eso, sigue las siguientes instrucciones:\n",
    "- Crea un diccionario vacío\n",
    "- Por cada caracter en `letras`, crea una asociación en tu diccionario, donde el valor es el caracter y la llave es el índice numérico donde se ubica ese caracter en `letras`. Por ejemplo, primero se agregaría la asociación `0: 'a'`, ya que la `'a'` es el primer caracter en `letras`.\n",
    "- Una vez todas creadas, elimina las asociaciones cuyas llaves sean múltiplos de 3.\n",
    "- Imprime el diccionario que resulta."
   ]
  },
  {
   "cell_type": "code",
   "execution_count": 3,
   "metadata": {
    "tags": []
   },
   "outputs": [
    {
     "output_type": "stream",
     "name": "stdout",
     "text": "abcdefghijklmnopqrstuvwxyz\n"
    }
   ],
   "source": [
    "from string import ascii_lowercase as letras\n",
    "\n",
    "print(letras)\n",
    "\n",
    "# Completar"
   ]
  },
  {
   "cell_type": "markdown",
   "metadata": {},
   "source": [
    "### Ejercicio 5.2: Categorizar por grupo"
   ]
  },
  {
   "cell_type": "markdown",
   "metadata": {},
   "source": [
    "A continuación, se te entrega código incompleto. Hasta el momento, crea una lista (`personas`) de 100 instancias una tupla `Persona` que poseen `edad` y `nacionalidad` cada una. Debes crear dos diccionarios: `personas_por_paises` y `personas_por_edad`, y poblarlos tal  que:\n",
    "- `personas_por_paises` contenga asociaciones donde las llaves son nombres de las distintas nacionalidades posibles para las instancias de `Persona`, y el valor asociado es una lista con aquellas instancias en `personas` que tienen ese valor de `nacionalidad`.\n",
    "- `personas_por_edad` similarmente contenga listas de instancias en `personas` pero categorizados por rangos de edades en las llaves. Específicamente, las llaves deben ser tuplas que indiquen los extremos de dichos rangos que vayan de 10 en 10. Es decir: `(0, 10)`,  `(11, 20)`, ..., `(91, 100)`; son llaves del diccionario.\n",
    "\n",
    "**Observación**: No hay una única forma de generar lo pedido, intenta hacerlo como puedas inicialmente, y luego analiza si lo puedes alterar o usar otro tipo de definición de diccionario distinta."
   ]
  },
  {
   "cell_type": "code",
   "execution_count": null,
   "metadata": {},
   "outputs": [],
   "source": [
    "from random import choice, randint\n",
    "from collections import namedtuple, defaultdict # Puedes usar defaultdict si lo deseas\n",
    "\n",
    "paises = ['Argentina', 'Bolivia', 'Chile', 'Perú']\n",
    "Persona = namedtuple('Persona', 'edad nacionalidad')\n",
    "\n",
    "personas = []\n",
    "for i in range(100):\n",
    "    nueva_persona = Persona(randint(0, 100), choice(paises))\n",
    "    personas.append(nueva_persona)\n",
    "\n",
    "\n",
    "# Completar"
   ]
  },
  {
   "cell_type": "markdown",
   "metadata": {},
   "source": [
    "### Ejercicio 5.3: Diccionarios y funciones"
   ]
  },
  {
   "cell_type": "markdown",
   "metadata": {},
   "source": [
    "El siguiente código tiene lo necesario para simular el movimiento de un objeto en una matriz de 3 por 3. La variable `tablero` es una lista de listas con el contenido del tablero matricial, donde `'o'` representa el objeto en movimiento, y `pos` es un posición actual en la matriz. Por otro lado, las funciones `bajar`, `subir`, `derecha` e `izquierda` generan los cambios en `tablero` y `pos` para mover el objeto correspondientemente.\n",
    "\n",
    "La última sección genera interacción con el usuario mediante `input`, donde al recibir los caracteres `'a'`, `'s'`, `'d'`, `'w'` y `'q'` genera una acción. Ya está definido que al ingresar `'q'`, se termina el programa. Debes completar el programa para que al ingresar `'a'` el objeto se mueva a la izquierda, al ingresar `'d'` el objeto se mueva a la derecha, al ingresar `'s'` el objeto se mueva hacia abajo, y al ingresar `'w'` el objeto se mueva hacia arriba.\n",
    "\n",
    "**Observación:** Es fácil el ejercicio utilizando más sentencias `if-elif-else`. Intenta no usarlas y utilizar un diccionario para resolverlo."
   ]
  },
  {
   "cell_type": "code",
   "execution_count": null,
   "metadata": {},
   "outputs": [],
   "source": [
    "tablero = [['-', '-', '-'], ['-', 'o', '-'], ['-', '-', '-']]\n",
    "pos = (1, 1)\n",
    "\n",
    "def bajar(tablero, pos):\n",
    "    tablero[pos[1]][pos[0]] = '-'\n",
    "    pos = (pos[0], min(pos[1] + 1, 2))\n",
    "    tablero[pos[1]][pos[0]] = 'o'\n",
    "    return tablero, pos\n",
    "\n",
    "def subir(tablero, pos):\n",
    "    tablero[pos[1]][pos[0]] = '-'\n",
    "    pos = (pos[0], max(pos[1] - 1, 0))\n",
    "    tablero[pos[1]][pos[0]] = 'o'\n",
    "    return tablero, pos\n",
    "    \n",
    "def derecha(tablero, pos):\n",
    "    tablero[pos[1]][pos[0]] = '-'\n",
    "    pos = (min(pos[0] + 1, 2), pos[1])\n",
    "    tablero[pos[1]][pos[0]] = 'o'\n",
    "    return tablero, pos\n",
    "\n",
    "def izquierda(tablero, pos):\n",
    "    tablero[pos[1]][pos[0]] = '-'\n",
    "    pos = (max(pos[0] - 1, 0), pos[1])\n",
    "    tablero[pos[1]][pos[0]] = 'o'\n",
    "    return tablero, pos\n",
    "\n",
    "# Puedes rellenar aquí\n",
    "\n",
    "while True:\n",
    "    for fila in tablero:\n",
    "        print(\"\".join(fila))\n",
    "    accion = input(\"Ingresa acción: \")\n",
    "    if accion in \"asdw\":\n",
    "        # Completar aquí\n",
    "    elif accion == \"q\":\n",
    "        print(\"¡Adios!\")\n",
    "        break\n",
    "    else:\n",
    "        print(\"Inválido\")"
   ]
  },
  {
   "cell_type": "markdown",
   "metadata": {},
   "source": [
    "## 6. *Sets*"
   ]
  },
  {
   "cell_type": "markdown",
   "metadata": {},
   "source": [
    "### Ejercicio 6.1: *Set* de números aleatorios"
   ]
  },
  {
   "cell_type": "markdown",
   "metadata": {},
   "source": [
    "Crea un *set* vació, y agrega 100 veces un número aleatorio entre 0 y 100. Luego imprime el *set* que resulta. \n",
    "Una vez resuelto, intenta generar el mismo resultado utilizando una estructura por comprensión."
   ]
  },
  {
   "cell_type": "code",
   "execution_count": null,
   "metadata": {},
   "outputs": [],
   "source": [
    "from random import randint\n",
    "\n",
    "# Completar"
   ]
  },
  {
   "cell_type": "markdown",
   "metadata": {},
   "source": [
    "### Ejercicio 6.2: Eficiencia de revisión de pertenencia en *sets*"
   ]
  },
  {
   "cell_type": "markdown",
   "metadata": {},
   "source": [
    "La intención es extender el experimento del material que revisa el tiempo que demora buscar cierto elemento en listas y conjuntos muy grandes. En ese ejemplo, siempre se buscaba el mismo elemento. Ahora, debes extenderlo para probar varios casos, donde el elemento buscado varía. Se te entrega creada una función (`pertenencia_cronometrada`) que cronometra la revisión de pertenencia de un elemento en una estructura cualquiera; y luego está la creación del *set* y lista gigantes. El programa debe generar 100 experimentos donde busca en ambas estructuras un elemento aleatorio cualquiera y cronometra cuanto demora en cada estructura. Finalmente debe mostrar también cuanto tiempo promedio tomó para cada estructura la búsqueda en la totalidad de los experimentos.\n",
    "\n",
    "Una vez completado eso, extiende la simulación para que cada experimento aleatorio nuevo **no se repita**."
   ]
  },
  {
   "cell_type": "code",
   "execution_count": null,
   "metadata": {},
   "outputs": [],
   "source": [
    "from time import time\n",
    "from random import randint\n",
    "\n",
    "def pertenencia_cronometrada(elemento, estructura):\n",
    "    inicio = time()\n",
    "    elemento in estructura\n",
    "    fin = time()\n",
    "    return fin - inicio\n",
    "\n",
    "ELEMENTOS = 10 ** 7\n",
    "lista_gigante = list(range(ELEMENTOS))\n",
    "set_gigante = set(range(ELEMENTOS))\n",
    "\n",
    "# Puedes rellenar aquí\n",
    "\n",
    "for _ in range(100):\n",
    "    \n",
    "    # Completar\n",
    "    \n",
    "    print(f\"set  -- La búsqueda de {elemento} demoró... {tiempo_set:.6f} segundos.\")\n",
    "    print(f\"list -- La búsqueda de {elemento} demoró... {tiempo_lista:.6f} segundos.\")\n",
    "\n",
    "# Puedes rellenar aquí\n",
    "\n",
    "print(f\"set  -- La búsqueda en promedio demoró... {set_promedio:.6f} segundos.\")\n",
    "print(f\"list -- La búsqueda en promedio demoró... {lista_promedio:.6f} segundos.\")\n",
    "print(f\"La búsqueda en la lista fue {lista_promedio / set_promedio:.2f} veces más lenta que en el set.\")"
   ]
  },
  {
   "cell_type": "markdown",
   "metadata": {},
   "source": [
    "## 7. `args` y `kwargs`"
   ]
  },
  {
   "cell_type": "markdown",
   "metadata": {},
   "source": [
    "### Ejercicio 7.1: Múltiples argumentos de `print`"
   ]
  },
  {
   "cell_type": "markdown",
   "metadata": {},
   "source": [
    "`print` puede recibir una cantidad arbitraría de argumentos posicionales e imprirlos todos con cierto por separador *string* entre ellos. Por defecto, ese separador es el espacio `' '`, pero también recibe un parametro opcional (`sep`) que permite alterar dicho separador. A su vez, recibe un parametro opcional (`end`) que permite alterar con qué termina lo impreso, cuyo default es `'\\n'` (salto de línea).\n",
    "\n",
    "El siguiente código genera una lista de listas con strings numéricos de dos dígitos. Luego se imprime fila por fila, lo cual resulta en la impresión literal de cada sub-lista contenidas en `numeros`."
   ]
  },
  {
   "cell_type": "code",
   "execution_count": 15,
   "metadata": {
    "tags": []
   },
   "outputs": [
    {
     "output_type": "stream",
     "name": "stdout",
     "text": "['00', '01', '02', '03', '04', '05', '06', '07', '08', '09']\n['10', '11', '12', '13', '14', '15', '16', '17', '18', '19']\n['20', '21', '22', '23', '24', '25', '26', '27', '28', '29']\n['30', '31', '32', '33', '34', '35', '36', '37', '38', '39']\n['40', '41', '42', '43', '44', '45', '46', '47', '48', '49']\n['50', '51', '52', '53', '54', '55', '56', '57', '58', '59']\n['60', '61', '62', '63', '64', '65', '66', '67', '68', '69']\n['70', '71', '72', '73', '74', '75', '76', '77', '78', '79']\n['80', '81', '82', '83', '84', '85', '86', '87', '88', '89']\n['90', '91', '92', '93', '94', '95', '96', '97', '98', '99']\n"
    }
   ],
   "source": [
    "numeros = [[str((fila * 10 + columna)).zfill(2) for columna in range(10)] for fila in range(10)]\n",
    "\n",
    "for fila in numeros:\n",
    "    print(fila)"
   ]
  },
  {
   "cell_type": "markdown",
   "metadata": {},
   "source": [
    "Completa las siguientes secciones haciendo uso de los argumentos de `print` para imprimir los números en ciertos formatos. Primero:\n",
    "\n",
    "```\n",
    "00 01 02 03 04 05 06 07 08 09\n",
    "10 11 12 13 14 15 16 17 18 19\n",
    "20 21 22 23 24 25 26 27 28 29\n",
    "30 31 32 33 34 35 36 37 38 39\n",
    "40 41 42 43 44 45 46 47 48 49\n",
    "50 51 52 53 54 55 56 57 58 59\n",
    "60 61 62 63 64 65 66 67 68 69\n",
    "70 71 72 73 74 75 76 77 78 79\n",
    "80 81 82 83 84 85 86 87 88 89\n",
    "90 91 92 93 94 95 96 97 98 99\n",
    "\n",
    "```"
   ]
  },
  {
   "cell_type": "code",
   "execution_count": 28,
   "metadata": {
    "tags": []
   },
   "outputs": [
    {
     "output_type": "stream",
     "name": "stdout",
     "text": "00 01 02 03 04 05 06 07 08 09 \n\n10 11 12 13 14 15 16 17 18 19 \n\n20 21 22 23 24 25 26 27 28 29 \n\n30 31 32 33 34 35 36 37 38 39 \n\n40 41 42 43 44 45 46 47 48 49 \n\n50 51 52 53 54 55 56 57 58 59 \n\n60 61 62 63 64 65 66 67 68 69 \n\n70 71 72 73 74 75 76 77 78 79 \n\n80 81 82 83 84 85 86 87 88 89 \n\n90 91 92 93 94 95 96 97 98 99 \n\n"
    }
   ],
   "source": [
    "for fila in numeros:\n",
    "    for num in fila:\n",
    "        print(num, end=\" \")\n",
    "    print(\"\\n\")"
   ]
  },
  {
   "cell_type": "markdown",
   "metadata": {},
   "source": [
    "Luego:\n",
    "```\n",
    "00-01-02-03-04-05-06-07-08-09\n",
    "10-11-12-13-14-15-16-17-18-19\n",
    "20-21-22-23-24-25-26-27-28-29\n",
    "30-31-32-33-34-35-36-37-38-39\n",
    "40-41-42-43-44-45-46-47-48-49\n",
    "50-51-52-53-54-55-56-57-58-59\n",
    "60-61-62-63-64-65-66-67-68-69\n",
    "70-71-72-73-74-75-76-77-78-79\n",
    "80-81-82-83-84-85-86-87-88-89\n",
    "90-91-92-93-94-95-96-97-98-99\n",
    "```"
   ]
  },
  {
   "cell_type": "code",
   "execution_count": 27,
   "metadata": {
    "tags": []
   },
   "outputs": [
    {
     "output_type": "stream",
     "name": "stdout",
     "text": "00-01-02-03-04-05-06-07-08-09 \n\n10-11-12-13-14-15-16-17-18-19 \n\n20-21-22-23-24-25-26-27-28-29 \n\n30-31-32-33-34-35-36-37-38-39 \n\n40-41-42-43-44-45-46-47-48-49 \n\n50-51-52-53-54-55-56-57-58-59 \n\n60-61-62-63-64-65-66-67-68-69 \n\n70-71-72-73-74-75-76-77-78-79 \n\n80-81-82-83-84-85-86-87-88-89 \n\n90-91-92-93-94-95-96-97-98-99 \n\n"
    }
   ],
   "source": [
    "for fila in numeros:\n",
    "    for num in fila:\n",
    "        if num != fila[len(fila)-1]:\n",
    "            print(num, end=\"-\")\n",
    "        else:\n",
    "            print(num,end=\" \")\n",
    "    print(\"\\n\")"
   ]
  },
  {
   "cell_type": "markdown",
   "metadata": {},
   "source": [
    "Y finalmente:\n",
    "```\n",
    "00>01>02>03>04>05>06>07>08>09>10>11>12>13>14>15>16>17>18>19>20>21>22>23>24>25>26>27>28>29>30>31>32>33>34>35>36>37>38>39>40>41>42>43>44>45>46>47>48>49>50>51>52>53>54>55>56>57>58>59>60>61>62>63>64>65>66>67>68>69>70>71>72>73>74>75>76>77>78>79>80>81>82>83>84>85>86>87>88>89>90>91>92>93>94>95>96>97>98>99>\n",
    "```"
   ]
  },
  {
   "cell_type": "code",
   "execution_count": 32,
   "metadata": {
    "tags": []
   },
   "outputs": [
    {
     "output_type": "stream",
     "name": "stdout",
     "text": "00>01>02>03>04>05>06>07>08>09>10>11>12>13>14>15>16>17>18>19>20>21>22>23>24>25>26>27>28>29>30>31>32>33>34>35>36>37>38>39>40>41>42>43>44>45>46>47>48>49>50>51>52>53>54>55>56>57>58>59>60>61>62>63>64>65>66>67>68>69>70>71>72>73>74>75>76>77>78>79>80>81>82>83>84>85>86>87>88>89>90>91>92>93>94>95>96>97>98>99>"
    }
   ],
   "source": [
    "for fila in numeros:\n",
    "    for num in fila:\n",
    "        print(num, end=\">\")"
   ]
  },
  {
   "cell_type": "markdown",
   "metadata": {},
   "source": [
    "### Ejercicio 7.2: Clonando diccionarios"
   ]
  },
  {
   "cell_type": "markdown",
   "metadata": {},
   "source": [
    "La función `dict` permite también crear diccionarios vacíos, o con contenido. Particularmente, permite recibir argumentos por palabra clave de tal forma que el nuevo diccionario creado tenga pares llave-valor iguales a la palabra clave y argumento entregado, respectivamente."
   ]
  },
  {
   "cell_type": "code",
   "execution_count": 38,
   "metadata": {
    "tags": []
   },
   "outputs": [
    {
     "output_type": "stream",
     "name": "stdout",
     "text": "{'uno': 1}\n"
    }
   ],
   "source": [
    "diccionario = dict(uno = 1)\n",
    "print(diccionario)"
   ]
  },
  {
   "cell_type": "markdown",
   "metadata": {},
   "source": [
    "Con esto en mente, completa el siguiente espacio de tal forma que `diccionario_2` sea una copia de `diccionario_1`, pero no el mismo objeto. La solución cabe en una línea y no consiste en replicar la definición de `diccionario_1`."
   ]
  },
  {
   "cell_type": "code",
   "execution_count": 39,
   "metadata": {
    "tags": []
   },
   "outputs": [
    {
     "output_type": "stream",
     "name": "stdout",
     "text": "¿Es el mismo objeto?: False\n"
    }
   ],
   "source": [
    "diccionario_1 = {str(i): 0 for i in range(100)}\n",
    "\n",
    "diccionario_2 = diccionario_1.copy()\n",
    "\n",
    "print(f'¿Es el mismo objeto?: {diccionario_1 is diccionario_2}')"
   ]
  }
 ],
 "metadata": {
  "kernelspec": {
   "display_name": "Python 3",
   "language": "python",
   "name": "python3"
  },
  "language_info": {
   "codemirror_mode": {
    "name": "ipython",
    "version": 3
   },
   "file_extension": ".py",
   "mimetype": "text/x-python",
   "name": "python",
   "nbconvert_exporter": "python",
   "pygments_lexer": "ipython3",
   "version": "3.7.6-final"
  }
 },
 "nbformat": 4,
 "nbformat_minor": 2
}