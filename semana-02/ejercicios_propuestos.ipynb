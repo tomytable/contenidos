{
 "cells": [
  {
   "cell_type": "markdown",
   "metadata": {},
   "source": [
    "<p>\n",
    "<font size='5' face='Georgia, Arial'>IIC-2233 Apunte Programación Avanzada</font><br>\n",
    "<font size='1'> Ejercicios creados a partir de 2019-2 por Equipo Docente IIC2233. </font>\n",
    "<font size='1'> Actualizados en 2020-2.</font>\n",
    "</p>\n",
    "\n",
    "\n",
    "# Ejercicios propuestos: Programación Orientada a Objetos I"
   ]
  },
  {
   "cell_type": "markdown",
   "metadata": {},
   "source": [
    "Los siguientes problemas se proveen como oportunidad de ejercitar los conceptos revisados en el material de **Programación Orientada a Objetos I**. Si tienes dudas sobre algún problema o alguna solución, no dudes en dejar una *issue* en el [foro del curso](https://github.com/IIC2233/syllabus/issues).\n",
    "\n",
    "Los ejercicios se subdividen según la numeración de los cuadernos de la semana. Algunos de ellos se referencian desde los cuadernos de material mismo, mientras que pueden haber otros adicionales para mayor ejercitación."
   ]
  },
  {
   "cell_type": "markdown",
   "metadata": {},
   "source": [
    "## 1. Objetos"
   ]
  },
  {
   "cell_type": "markdown",
   "metadata": {},
   "source": [
    "### Ejercicio 1.1: DCCanvas"
   ]
  },
  {
   "cell_type": "markdown",
   "metadata": {},
   "source": [
    "Como bien sabes, por diversas razones se han tenido que realizar las clases en un formato online, pero como Canvas no tiene precisamente el mejor sistema de videoconferencias, te piden ayuda para programar el funcionamiento de estas. Para ello, deberás crear las siguientes clases con ciertas específicaciones:\n",
    "\n",
    "1. La clase ``` Alumno```con:\n",
    "    - atributo nombre\n",
    "    - atributo apellido\n",
    "    - atributo número de alumno\n",
    "    - atributo clases asistidas, lista con las siglas de las clases a las que asistió el alumno en el día.\n",
    "\n",
    "\n",
    "2. La clase ```Sala``` con :\n",
    "    - atributo lista de alumnos, lista con la información de los alumnos inscritos en el curso.\n",
    "    - atributo número de sala\n",
    "    - atributo sigla curso\n",
    "    - método ```ingresar_alumno(alumno)```, el cual recibe una instancia de la clase `Alumno` y verifica que tanto su nombre como número de alumno pertenezcan a la lista de alumnos de esa clase.\n",
    "        - Si pertenece a la clase se debe agregar la **sigla del curso** a las clases asistidas del alumno, además de imprimir:\n",
    "        \n",
    "        ```\"{nombre alumno} {apellido alumno} ha ingresado a la Sala {numero sala} - {sigla}\"```\n",
    "        - En caso contrario se imprime: \n",
    "        \n",
    "        ```\"{nombre alumno} {apellido alumno} se ha intentado colar a la Sala {numero sala} - {sigla}\"```\n",
    "        \n",
    "Puedes usar el siguiente código de base como guía para realizar tu solución:"
   ]
  },
  {
   "cell_type": "code",
   "execution_count": 11,
   "metadata": {
    "tags": []
   },
   "outputs": [
    {
     "output_type": "stream",
     "name": "stdout",
     "text": "Javier Gomez se ha intentado colar a la Sala 666 - IIC2233\nJosefa Paz ha ingresado a la Sala 666 - IIC2233\nTomas Gonzalez ha ingresado a la Sala 666 - IIC2233\n"
    }
   ],
   "source": [
    "class Alumno:\n",
    "    \n",
    "    def __init__(self, nombre, apellido, numero_alumno):\n",
    "        self.nombre = nombre\n",
    "        self.apellido = apellido\n",
    "        self.n_alumno = numero_alumno\n",
    "        self.clases_asistidas = []\n",
    "\n",
    "class Sala:\n",
    "    \n",
    "    def __init__(self, lista_alumnos, numero_sala, sigla):\n",
    "        self.lista = lista_alumnos\n",
    "        self.n_sala = numero_sala\n",
    "        self.sigla = sigla\n",
    "    \n",
    "    def ingresar_alumno(self, alumno):\n",
    "        if (alumno.nombre, alumno.n_alumno) in self.lista:\n",
    "            alumno.clases_asistidas.append(self.sigla)\n",
    "            print(f\"{alumno.nombre} {alumno.apellido} ha ingresado a la Sala {self.n_sala} - {self.sigla}\")\n",
    "        else:\n",
    "            print(f\"{alumno.nombre} {alumno.apellido} se ha intentado colar a la Sala {self.n_sala} - {self.sigla}\")\n",
    "\n",
    "    \n",
    "javier = Alumno(\"Javier\", \"Gomez\", \"18639942\")\n",
    "josefa = Alumno(\"Josefa\", \"Paz\", \"16645578\")\n",
    "tomas = Alumno(\"Tomas\", \"Gonzalez\", \"19638225\")\n",
    "\n",
    "sala = Sala([(\"Michael\", \"19643721\"),(\"Silvana\", \"18632890\"),(\"Tomas\", \"19638225\"),\n",
    "             (\"Josefa\", \"16645578\"),(\"Javier\", \"16665798\"),(\"\", \"\")], 666, \"IIC2233\")\n",
    "sala.ingresar_alumno(javier)\n",
    "sala.ingresar_alumno(josefa)\n",
    "sala.ingresar_alumno(tomas)"
   ]
  },
  {
   "cell_type": "markdown",
   "metadata": {},
   "source": [
    "## 2. *Properties*"
   ]
  },
  {
   "cell_type": "markdown",
   "metadata": {},
   "source": [
    "### Ejercicio 2.1: Autos deportivos"
   ]
  },
  {
   "cell_type": "markdown",
   "metadata": {},
   "source": [
    "Se te provee una clase ```Deportivo``` con los atributos ```modelo```, ```marca```, ```patente```, ```precio``` y ```fecha_de_compra```(sólo el año, por simplicidad). \n",
    "\n",
    "Las instancias de ```Deportivo```deben poder describir su ```adquisicion``` mediante un método, el cual **imprime** el siguiente _string_ `\"Auto adquirido el: 'año'\"`, dónde `'año'` es la ```fecha_de_compra``` de la instancia.\n",
    "\n",
    "Implementa también una *property* ```depreciación_acumulada``` para `Deportivo` que calcula el valor de precio que el vehículo ha perdido en el tiempo. Este valor se calcular de la siguiente forma: ```(precio / 10) * (fecha_actual - fecha_de_compra)```.\n",
    "\n",
    "Finalmente, debes rellenar el código principal de tal forma que se generen dos instancias de `Deportivo`, se impriman todos sus atributos, impriman su `depreciación_acumulada` y finalmente llamen al método `adquisicion`."
   ]
  },
  {
   "cell_type": "code",
   "execution_count": 29,
   "metadata": {
    "tags": []
   },
   "outputs": [
    {
     "output_type": "stream",
     "name": "stdout",
     "text": "Barato\nDCC\nING123\n100\n2012\nLa depreciación acumulada del DCC Barato es de 80.0\nAuto adquirido el: 2012\n\nSuperCaro\nDCC\nIIC2233\n10000\n2017\nLa depreciación acumulada del DCC SuperCaro es de 3000.0\nAuto adquirido el: 2017\n"
    }
   ],
   "source": [
    "class Deportivo:\n",
    "    \n",
    "    def __init__(self, modelo, marca, patente, precio, fecha_de_compra):\n",
    "        self.modelo = modelo\n",
    "        self.marca = marca\n",
    "        self.patente = patente\n",
    "        self.precio = precio\n",
    "        self.fecha_de_compra = fecha_de_compra\n",
    "        self.__depreciacion = 0\n",
    "        \n",
    "    def adquisicion(self):\n",
    "        print(f\"Auto adquirido el: {self.fecha_de_compra}\")\n",
    "        \n",
    "    @property\n",
    "    def depreciacion_acumulada(self):\n",
    "        return self.__depreciacion\n",
    "\n",
    "    @depreciacion_acumulada.setter\n",
    "    def depreciacion_acumulada(self, fecha_actual):   #fecha actual es \n",
    "        dep = (self.precio / 10) * (fecha_actual -self.fecha_de_compra)\n",
    "        self.__depreciacion = dep\n",
    "        print(f\"La depreciación acumulada del {self.marca} {self.modelo} es de {dep}\")\n",
    "\n",
    "if __name__ == \"__main__\":\n",
    "    barato = Deportivo('Barato', 'DCC', 'ING123', 100, 2012)\n",
    "    super_caro = Deportivo('SuperCaro', 'DCC', 'IIC2233', 10000, 2017)\n",
    "    print(barato.modelo)\n",
    "    print(barato.marca)\n",
    "    print(barato.patente)\n",
    "    print(barato.precio)\n",
    "    print(barato.fecha_de_compra)\n",
    "    barato.depreciacion_acumulada += 2020\n",
    "    barato.adquisicion()\n",
    "    print()\n",
    "    print(super_caro.modelo)\n",
    "    print(super_caro.marca)\n",
    "    print(super_caro.patente)\n",
    "    print(super_caro.precio)\n",
    "    print(super_caro.fecha_de_compra)\n",
    "    super_caro.depreciacion_acumulada += 2020\n",
    "    super_caro.adquisicion()\n",
    "    "
   ]
  },
  {
   "cell_type": "markdown",
   "metadata": {},
   "source": [
    "### Ejercicio 2.2: Un error misterioso"
   ]
  },
  {
   "cell_type": "markdown",
   "metadata": {},
   "source": [
    "El siguiente código fue un intento de aplicar la materia de *properties*, pero por alguna razón, no funciona y lanza un error extraño. Ejecútalo, encuentra el error, y arréglalo."
   ]
  },
  {
   "cell_type": "code",
   "execution_count": 7,
   "metadata": {
    "tags": []
   },
   "outputs": [
    {
     "output_type": "stream",
     "name": "stdout",
     "text": "2\n"
    }
   ],
   "source": [
    "class Misterio:\n",
    "    def __init__(self, atributo):\n",
    "        self.__atributo = atributo\n",
    "    \n",
    "    @property\n",
    "    def atributo(self):\n",
    "        return self.__atributo\n",
    "    \n",
    "    @atributo.setter\n",
    "    def atributo(self, valor):\n",
    "        if valor % 2 == 1: \n",
    "            self.__atributo = valor + 1\n",
    "        else:\n",
    "            self.__atributo = valor\n",
    "        \n",
    "if __name__ == \"__main__\":\n",
    "    misterio = Misterio(1)\n",
    "    misterio.atributo += 1\n",
    "    print(misterio.atributo)"
   ]
  },
  {
   "cell_type": "markdown",
   "metadata": {},
   "source": [
    "### Ejercicio 2.3: DCCgram"
   ]
  },
  {
   "cell_type": "markdown",
   "metadata": {},
   "source": [
    "La red social DCCgram necesita de tu ayuda como programador para controlar la edicion de la información por parte de sus usuarios. Específicamente, debes implementar una forma de que los atributos de una clase solo se modifiquen cuando cumplen ciertas reglas.\n",
    "\n",
    "Primero, debes crear la clase ```DCCgram```, la que debe tener como **atributo** una lista que contenga usuarios, que serán instancias de la clase `Usuario`. Luego, debes implementar ```Usuario```, la que debe tener la posibilidad de registrar el ```username```, ```mail```, ```edad```,  y ```rut``` como atributos.\n",
    "\n",
    "Debes implementar *properties* en `Usuario` para asegurar la posibilidad de modificar todos sus atributos fácilmente, pero teniendo en cuenta las siguientes restricciones:\n",
    "\n",
    "- ```edad``` solo puede ser mayor o igual a 18 años\n",
    "- ```rut``` debe tener un solo guión (`\"-\"`) y no tener más de 10 dígitos\n",
    "- ```mail``` debe permitir solo dominio ```\"uc.cl\"```\n",
    "\n",
    "Además, debes implementar un método de `DCCgram` que agregue nuevos usuarios a la plataforma, pero solo lo haga si cada nuevo usuario cumple con todos los requisitos y si su `username` no existe previamente.\n",
    "\n",
    "Toma el siguiente código como base para implementar lo pedido."
   ]
  },
  {
   "cell_type": "code",
   "execution_count": null,
   "metadata": {},
   "outputs": [],
   "source": [
    "class DCCgram:\n",
    "    \n",
    "    def __init__(self):\n",
    "        self.usuarios = []\n",
    "    \n",
    "    def agregar(self, nuevo_usuario):\n",
    "        pass\n",
    "        \n",
    "class Usuario:\n",
    "    \n",
    "    def __init__(self, username, mail, edad, rut):\n",
    "        # Así validamos de inmediato los atributos\n",
    "        self.__username = None\n",
    "        self.__mail = None\n",
    "        self.__edad = None\n",
    "        self.__rut = None\n",
    "        self.username = username\n",
    "        self.mail = mail\n",
    "        self.edad = edad\n",
    "        self.rut = rut\n",
    "    \n",
    "    @property\n",
    "    def username(self):\n",
    "        pass\n",
    "    \n",
    "    @username.setter\n",
    "    def username(self, value):\n",
    "        pass\n",
    "    \n",
    "    @property\n",
    "    def mail(self):\n",
    "        pass\n",
    "    \n",
    "    @mail.setter\n",
    "    def mail(self, value):\n",
    "        pass\n",
    "        \n",
    "    @property\n",
    "    def edad(self):\n",
    "        pass\n",
    "    \n",
    "    @edad.setter\n",
    "    def edad(self, value):\n",
    "        pass\n",
    "        \n",
    "    @property\n",
    "    def rut(self):\n",
    "        pass\n",
    "    \n",
    "    @rut.setter\n",
    "    def rut(self, value):\n",
    "        pass\n",
    "    \n",
    "    \n",
    "\n",
    "if __name__ == \"__main__\":\n",
    "\n",
    "    dcc_gram = DCCgram()\n",
    "    u1 = Usuario('usuario1', 'usuario1@uc.cl', 17, '00000-0')\n",
    "    u2 = Usuario('usuario2', 'usuario2@uc.cl', 19, '00000')\n",
    "    u3 = Usuario('usuario3', 'usuario1@gmail.cl', 19, '00001-0')\n",
    "    u4 = Usuario('usuario4', 'usuario4@uc.cl', 18, '00002-0')\n",
    "\n",
    "    dcc_gram.agregar(u1)\n",
    "    dcc_gram.agregar(u2)\n",
    "    dcc_gram.agregar(u3)\n",
    "    dcc_gram.agregar(u4)\n",
    "    # Si todo ha salido bien, solo user 4 debería estar en la lista\n",
    "    print(dcc_gram.usuarios)  # ¿Qué método deberias implementar para poder verlo en la lista?"
   ]
  },
  {
   "cell_type": "markdown",
   "metadata": {},
   "source": [
    "## 3. Herencia"
   ]
  },
  {
   "cell_type": "markdown",
   "metadata": {},
   "source": [
    "### Ejercicio 3.1:  Intento de Influencer"
   ]
  },
  {
   "cell_type": "markdown",
   "metadata": {},
   "source": [
    "Las redes sociales han sido muy importantes para poder sobrevivir a la *cuarentena*, es por eso que después de pensarlo durante mucho tiempo decides que quieres ser influencer, pero como te quedaste en el pasado no sabes si crearte una cuenta en **Musical.ly**, **Vine** o arriesgarte con el controversial **TikTok**.\n",
    "\n",
    "Se te entrega a continuación la clase ```Usuario``` ya implementada, la cual tiene los atributos: \n",
    "- ```user```: nombre de usuario \n",
    "- ```comentarios```: cantidad de comentarios diarios que da la persona en la red social.\n",
    "- ```likes```: cantidad de likes diarios que da la persona en la red social.\n",
    "\n",
    "Además debes completar las clases ```Muser```, ```Viner``` y ```TikToker```. Los Musers además de los atributos de la clase Usuario, poseen el atributo *shared* que indica la cantidad de veces que fueron sus musical.lys enviados a otros usuarios, los Viners poseen el atributo *saved* que es la cantidad de veces que guardaron sus vines, y los TikTokers tienen *views* que son la cantidad de reproducciones que tienen sus tiktoks.\n",
    "\n",
    "Para tomar tu decisión te basarás en qué plataforma tiene mayor ```popularidad```. Esta se calcula como el promedio de ```alcance``` de todos los usuarios que usen esta red social. El alcance *basal* de un usuario se calcula diferente en cada red social:\n",
    "- Musical.ly: ```comentarios * 2 + likes / 3```\n",
    "- Vine: ```likes + comentarios```\n",
    "- Tiktok: ```likes * 4 - comentarios```\n",
    "\n",
    "Además, debemos tener en cuenta que si una persona en la red social no es lo suficientemente popular nos va a descontar en nuestra popularidad. Entonces:\n",
    "- Si los musical.lys de un muser han sido **compartidos** menos de 159 veces, su alcance se calcula como **el negativo** al valor de alcance basal.\n",
    "- Si los vines de un viner han sido **guardados** menos de 354 veces, su alcance se calcula como su alcance basal **dividido en 2**.\n",
    "- Si los tiktoks de un tiktoker han sido **reproducidos** menos de 247 veces, su alcance se calcula como **multiplicar por 3** el alcace basal y vuelto **negativo**.\n",
    "\n",
    "Para ayudarte a cumplir tu misión, hemos recopilado la base de datos de estas aplicaciones y los datos se encuentran guardados en un archivo CSV de nombre ```influencers.csv``` en el formato ```nombre_de_usuario,comentarios,likes,atributo_extra,tipo_de_influencer```, donde **`atributo_extra`** es un número que representa *shared*, *saved* o *views* según corresponda, y **`tipo_de_influencer`** puede ser *muser*, *viner* o *tiktoker*. Solo debes completar la modelación y código de clases siguiendo las específicaciones anteriores."
   ]
  },
  {
   "cell_type": "code",
   "execution_count": 11,
   "metadata": {},
   "outputs": [],
   "source": [
    "class Usuario:\n",
    "    def __init__(self, user, comentarios, likes):\n",
    "        self.user = user\n",
    "        self.comentarios = comentarios\n",
    "        self.likes = likes\n",
    "\n",
    "# Completar y modificar si es necesario\n",
    "class Muser(Usuario):\n",
    "    \n",
    "    def __init__(self, user, comentarios, likes, shared):\n",
    "        super().__init__(user, comentarios, likes)\n",
    "        self.shared = shared\n",
    "        \n",
    "    \n",
    "    def alcance(self):\n",
    "        alcance = self.comentarios*2 + self.likes/2\n",
    "        if self.shared < 159:\n",
    "            alcance = -alcance\n",
    "        return alcance\n",
    "    \n",
    "class Viner(Usuario):\n",
    "    \n",
    "    def __init__(self, user, comentarios, likes, saved):\n",
    "        super().__init__(user, comentarios, likes)\n",
    "        self.saved = saved\n",
    "        \n",
    "    \n",
    "    def alcance(self):\n",
    "        alcance =self.likes + self.comentarios\n",
    "        if self.saved < 354:\n",
    "            alcance = alcance/2\n",
    "        return alcance\n",
    "\n",
    "class TikToker(Usuario):\n",
    "    \n",
    "    def __init__(self, user, comentarios, likes, views):\n",
    "        super().__init__(user, comentarios, likes)\n",
    "        self.views = views\n",
    "        \n",
    "    \n",
    "    def alcance(self):\n",
    "        alcance = self.likes*4-self.comentarios\n",
    "        if self.views < 247:\n",
    "            alcance = alcance*(-3)\n",
    "        return alcance"
   ]
  },
  {
   "cell_type": "code",
   "execution_count": 12,
   "metadata": {},
   "outputs": [],
   "source": [
    "from os import path\n",
    "musers = []\n",
    "viners = []\n",
    "tiktokers = []\n",
    "with open(path.join(\"data\", \"influencers.csv\")) as archivo:\n",
    "    archivo.readline()\n",
    "    for linea in archivo:\n",
    "        usuario, comentarios, likes, extra, influencer = linea.strip().split(\",\")\n",
    "        if influencer == \"muser\":\n",
    "            musers.append(Muser(usuario, int(comentarios), int(likes), int(extra)))\n",
    "        elif influencer == \"viner\":\n",
    "            viners.append(Viner(usuario, int(comentarios), int(likes), int(extra)))\n",
    "        else:\n",
    "            tiktokers.append(TikToker(usuario, int(comentarios), int(likes), int(extra)))"
   ]
  },
  {
   "cell_type": "code",
   "execution_count": 13,
   "metadata": {
    "tags": []
   },
   "outputs": [
    {
     "output_type": "stream",
     "name": "stdout",
     "text": "Muser\n"
    }
   ],
   "source": [
    "def popularidad(influencers):\n",
    "    suma = 0\n",
    "    for influencer in influencers:\n",
    "        suma += influencer.alcance()\n",
    "    promedio = suma / len(influencers)\n",
    "    return promedio\n",
    "\n",
    "popularidad_final = [(popularidad(musers), \"Muser\"), (popularidad(viners), \"Viners\"), \n",
    "                     (popularidad(tiktokers), \"TikToker\")]\n",
    "popularidad_final.sort(reverse=True)\n",
    "decision = popularidad_final[0][1]\n",
    "print(decision)"
   ]
  },
  {
   "cell_type": "markdown",
   "metadata": {},
   "source": [
    "### Ejercicio 3.2:  Rockgramación Avanzada"
   ]
  },
  {
   "cell_type": "markdown",
   "metadata": {},
   "source": [
    "Luego de consultar múltiples veces contigo mismo(a), decidiste que hoy será el día en que formarás tu banda de rock definitiva. Sin embargo, no conoces muchas personas que toquen instrumentos para conformarla, por lo que decidiste utilizar tus conocimientos de programación para encontrar a la banda perfecta y saltar a la fama.\n",
    "\n",
    "Deberás completar las clases y herencias correspondientes. Modelarás tipos de músicos, mediante la clase `Músico` y por simplicidad, solo necesitarás ```Cantante```s, ```Guitarrista```s y ```Baterista```s en tu banda. Los ```Cantante```s poseen ```tono```, los ```Guitarrista```s poseen ```tipo_guitarra``` y los ```Baterista```s poseen ```ritmo_preferido``` (*bpm*). \n",
    "\n",
    "Todos los `Músico`s poseen ```nombre```, ```afinidad``` y el método ```presentarse```, a través del cual imprimen su nombre y su tipo. Un ejemplo de `print` puede ser: `¡Hola! Mi nombre es {nombre} y soy {tipo}.` (*Hint*: puedes usar `type(instancia).__name__` para obtener el nombre de una clase)\n",
    "\n",
    "Al formar una banda, la `afinidad` de cada ```Músico``` cambia, resultando en una ```afinidad_final```. Ésta se comporta distinto según el tipo de `Músico`:\n",
    "- ```Cantante```: Su `afinidad` se multiplica por 2 si su `tono` es ```'bajo'```, 1 si es ```'tenor'``` y 0.5 si es ```'soprano'```.\n",
    "- ```Guitarrista```: Si su ```tipo_guitarra``` es ```'acústica'``` se le suma 21 a su `afinidad`, y si es ```'eléctrica'``` se le resta 14.\n",
    "- ```Baterista```: Su afinidad se comporta distinto para cada uno, un valor aleatorio entre 1 y su ```afinidad``` declarada más la mitad de su ```ritmo_preferido```.\n",
    "\n",
    "Esta ```afinidad_final``` es retornada por los métodos ```cantar```, ```guitarrear``` o ```percutir``` que tienen los ```Músico```s. Puedes usar el siguiente código base para modelar la situación:"
   ]
  },
  {
   "cell_type": "code",
   "execution_count": null,
   "metadata": {},
   "outputs": [],
   "source": [
    "from random import randint\n",
    "class Musico:\n",
    "    \n",
    "    def __init__(self, nombre, afinidad):\n",
    "        # Completar\n",
    "        pass\n",
    "    \n",
    "    def presentarse(self):\n",
    "        pass\n",
    "\n",
    "# Completar y modificar si es necesario\n",
    "class Cantante: \n",
    "    \n",
    "    def __init__(self, nombre, afinidad, tono):\n",
    "        pass\n",
    "    \n",
    "    def cantar(self):\n",
    "        pass\n",
    "    \n",
    "class Guitarrista: \n",
    "    \n",
    "    def __init__(self, nombre, afinidad, tipo_guitarra):\n",
    "        pass\n",
    "    \n",
    "    def guitarrear(self):\n",
    "        pass\n",
    "    \n",
    "class Baterista:\n",
    "    \n",
    "    def __init__(self, nombre, afinidad, ritmo_preferido):\n",
    "        pass\n",
    "    \n",
    "    def percutir(self):\n",
    "        pass\n"
   ]
  },
  {
   "cell_type": "markdown",
   "metadata": {},
   "source": [
    "Para poner a prueba tu modelación, puedes usar el siguiente código:"
   ]
  },
  {
   "cell_type": "code",
   "execution_count": null,
   "metadata": {},
   "outputs": [],
   "source": [
    "from os import path\n",
    "\n",
    "cantantes = []\n",
    "guitarristas = []\n",
    "bateristas = []\n",
    "with open(path.join(\"data\", \"musicians.csv\")) as archivo:\n",
    "    archivo.readline()\n",
    "    for linea in archivo:\n",
    "        nombre, afinidad, especialidad, detalle = linea.strip().split(\",\")\n",
    "        if especialidad == \"Cantante\":\n",
    "            cantantes.append(Cantante(nombre, int(afinidad), detalle))\n",
    "        elif especialidad == \"Guitarrista\":\n",
    "            guitarristas.append(Guitarrista(nombre, int(afinidad), detalle))\n",
    "        else:\n",
    "            bateristas.append(Baterista(nombre, int(afinidad), int(detalle)))\n",
    "for musico in cantantes + guitarristas + bateristas:\n",
    "    musico.presentarse()\n",
    "    if type(musico) == Cantante:\n",
    "        print(f\"{musico.nombre} obtuvo {musico.cantar()} de afinidad final.\")\n",
    "    elif type(musico) == Guitarrista:\n",
    "        print(f\"{musico.nombre} obtuvo {musico.guitarrear()} de afinidad final.\")\n",
    "    else:\n",
    "        print(f\"{musico.nombre} obtuvo {musico.percutir()} de afinidad final.\")\n",
    "    "
   ]
  },
  {
   "cell_type": "markdown",
   "metadata": {},
   "source": [
    "### Ejercicio 3.3: Tutores escolares"
   ]
  },
  {
   "cell_type": "markdown",
   "metadata": {},
   "source": [
    "En el proceso de implementar introducción a la programación en los colegios, se ha decidido iniciar un grupo de tutores provenientes de destacadas universidades para colaborar con los profesores. Tú, como tutor coordinador, debes crear un registro de cada estudiante que será tutor en este proceso, además de distribuir sus roles según corresponda. Afortunadamente, los profesores te entregaron parte de un código y te han dicho lo que esperan que entregues.\n",
    "\n",
    "Los profesores te han entregado la clase ``Tutor``, la cual debe tener los atributos ``edad``, ``universidad``, ``lenguaje_favorito`` y ``hobby``. Estos sirven para tener información general de cada tutor. Además, esta clase tiene el método ``presentarse``. Además, los profesores te han dado la clase ``Tarea`` que consiste en una simple tarea con dos atributos que son ``nombre`` y ``lenguaje``.\n",
    "\n",
    "Además, existen 3 tipos de tutores, ``TutorProgramador``, ``TutorCorrector`` y ``TutorDocente``. Estos se diferencian entre sí porque tienen trabajos distintos.\n",
    "\n",
    "- El ``TutorProgramador`` tiene el método de ``programar_tarea`` que recibe un nombre y que debe crear un objeto de clase tarea en su lenguaje de programación favorito. Además, debe retornar este objeto.\n",
    "\n",
    "- El ``TutorCorrector`` tiene un método que debe corregir la tarea de algún estudiante. Este método recibe un objeto ``Tarea``, y debe retornar un número aleatorio entre 1-7 si el ``lenguaje`` de la tarea y el ``lenguaje_favorito`` del tutor que corrige son iguales. De otra forma debe retornar \"No Corregido\". \n",
    "\n",
    "- El ``TutorDocente`` tiene un método ``aviso_profesor`` que recibe un valor. Este valor puede ser un numero entre 1-7 o un string. El metodo retorna \"Tarea no corregida por el ayudante\" si es un string igual a \"No Corregido\", \"Muy bien\" si la nota es sobre 4 y \"debes mejorar\" si la nota es entre 1-4.\n",
    "\n",
    "Tu misión es completar los bloques de código faltante indicados en cada función."
   ]
  },
  {
   "cell_type": "code",
   "execution_count": null,
   "metadata": {},
   "outputs": [],
   "source": [
    "import random\n",
    "\n",
    "class Tarea:\n",
    "    def __init__(self, nombre, lenguaje):\n",
    "        self.nombre = nombre\n",
    "        self.lenguaje = lenguaje\n",
    "        \n",
    "\n",
    "class Tutor:\n",
    "    def __init__(self, edad, universidad, lenguaje_favorito, hobby):\n",
    "        # Completar\n",
    "        pass\n",
    "    \n",
    "    def presentarse(self):\n",
    "        # Completar (opcional)\n",
    "        pass\n",
    "\n",
    "\n",
    "class TutorProgramador(Tutor):\n",
    "    def __init__(self, edad, universidad, lenguaje_favorito, hobby):\n",
    "        # Completar\n",
    "        pass\n",
    "    \n",
    "    def programar_tarea(self, nombre):\n",
    "        # Completar\n",
    "        pass\n",
    "\n",
    "    \n",
    "class TutorCorrector(Tutor):\n",
    "    def __init__(self, edad, universidad, lenguaje_favorito, hobby):\n",
    "        # Completar\n",
    "        pass\n",
    "    \n",
    "    def corregir_tarea(self, tarea):\n",
    "        # Completar\n",
    "        pass\n",
    "\n",
    "\n",
    "class TutorDocente(Tutor):\n",
    "    def __init__(self, edad, universidad, lenguaje_favorito, hobby):\n",
    "        # Completar\n",
    "        pass\n",
    "    \n",
    "    def aviso_profesor(self, valor):\n",
    "        # Completar\n",
    "        pass\n",
    "        \n",
    "\n",
    "if __name__ == \"__main__\":\n",
    "    pedro = TutorDocente(\"18\", \"Pontificia Universidad Católi\", \"java\", \"tenis\")\n",
    "    andrea = TutorProgramador(\"20\", \"Universidad de Chi\", \"python\", \"pintar\")\n",
    "    juan = TutorProgramador(\"19\", \"Universidad Santa María\", \"C#\", \"leer\")\n",
    "    paola = TutorCorrector(\"22\", \"Universidad de Chi\", \"python\", \"programar\")\n",
    "    tarea1 = andrea.programar_tarea(\"Tarea 1\")\n",
    "    tarea2 = juan.programar_tarea(\"Tarea 2\")\n",
    "    resultado1 = paola.corregir_tarea(tarea1)\n",
    "    resultado2 = paola.corregir_tarea(tarea2)\n",
    "    print(f'Soy Pedro y sus resultados son:')\n",
    "    print(pedro.aviso_profesor(resultado1))\n",
    "    print(pedro.aviso_profesor(resultado2))\n"
   ]
  },
  {
   "cell_type": "markdown",
   "metadata": {},
   "source": [
    "## 4. Polimorfismo"
   ]
  },
  {
   "cell_type": "markdown",
   "metadata": {},
   "source": [
    "### Ejercicio 4.1: _prints_ extraños"
   ]
  },
  {
   "cell_type": "markdown",
   "metadata": {},
   "source": [
    "A continuación se te entrega código que crea una clase genérica `Vehiculo`. Esta tiene re-escrita las firmas de los métodos `__str__` y `__repr__`, pero que realmente solo llama a la implementación predeterminada. Luego, se crean dos objetos y se imprímen. Verás que algo extraño aparece en pantalla al ejecutar esta forma.\n",
    "\n",
    "Dado lo anterior, se te solicita que modifiques la clase ```Vehiculo``` para que sea capaz de mostrar toda la información relacionada a ella, es decir, su ```modelo```, ```marca```y ```patente```al momento de imprimir una instancia de esta clase."
   ]
  },
  {
   "cell_type": "code",
   "execution_count": 19,
   "metadata": {
    "tags": []
   },
   "outputs": [
    {
     "output_type": "stream",
     "name": "stdout",
     "text": "El vehículo es de el DCC SuperCaro de patente IIC2233-1\nEl vehículo es de el DCC camion de patente IIC2233-1\n[DCC impreso en lista, DCC impreso en lista]\n"
    }
   ],
   "source": [
    "class Vehiculo:\n",
    "    \n",
    "    def __init__(self, modelo, marca, patente):\n",
    "        self.modelo = modelo\n",
    "        self.marca = marca\n",
    "        self.patente = patente\n",
    "    \n",
    "    def __str__(self):\n",
    "        return f\"El vehículo es de el {self.marca} {self.modelo} de patente {self.patente}\"\n",
    "    \n",
    "    def __repr__(self):\n",
    "        return f\"{self.marca} impreso en lista\"\n",
    "\n",
    "    \n",
    "if __name__ == \"__main__\":\n",
    "    auto = Vehiculo('SuperCaro', 'DCC', 'IIC2233-1')\n",
    "    camion =  Vehiculo('camion', 'DCC', 'IIC2233-1')\n",
    "    # Con estos prints se nota la diferencia entre repr y str\n",
    "    print(auto)\n",
    "    print(camion)\n",
    "    print([auto, camion])"
   ]
  },
  {
   "cell_type": "markdown",
   "metadata": {},
   "source": [
    "### Ejercicio 4.2: Progragotchis"
   ]
  },
  {
   "cell_type": "markdown",
   "metadata": {},
   "source": [
    "Buscando entre los diversos objetos que tenías guardados en una caja antigua, encontraste varios _progragotchis_ de distintas generaciones. Sientes mucha emoción por volver a verlos, decidiste volver a intentar criarlos. Luego de un rato, notaste que sus vidas duraron tiempos distintos, aún cuando les diste el mismo trato a todos. Como no podías quedarte de brazos cruzados con tu nuevo descubrimiento, decidiste ordenar a tus _progragotchis_ según su esperanza de vida.\n",
    "\n",
    "Deberás completar los métodos ```obtener_vida``` de cada generación distinta de *progragotchi*, y luego sobreescribir el método ```__gt__``` de cada clase, de modo que al usar ```sort``` la lista de *progragotchis* quede ordenada de mayor a menor vida."
   ]
  },
  {
   "cell_type": "markdown",
   "metadata": {},
   "source": [
    "### (Abre paréntesis...\n",
    "\n",
    "El método ```__gt__``` es el que se llama sobre un método cuando se compara con otro mediante `>`. Por ejemplo, se obtienen los mismos resultados comparando *strings*:"
   ]
  },
  {
   "cell_type": "code",
   "execution_count": 20,
   "metadata": {
    "tags": []
   },
   "outputs": [
    {
     "output_type": "stream",
     "name": "stdout",
     "text": "False\nFalse\nTrue\nTrue\nFalse\nFalse\n"
    }
   ],
   "source": [
    "print(\"a\" > \"b\")\n",
    "print(\"a\".__gt__(\"b\"))\n",
    "print(\"b\" > \"a\")\n",
    "print(\"b\".__gt__(\"a\"))\n",
    "print(\"a\" > \"a\")\n",
    "print(\"a\".__gt__(\"a\"))"
   ]
  },
  {
   "cell_type": "markdown",
   "metadata": {},
   "source": [
    "### ...cierra paréntesis)"
   ]
  },
  {
   "cell_type": "markdown",
   "metadata": {},
   "source": [
    "Todos los _progragotchis_ poseen ```nombre```, ```edad```,```peso``` y ```hambre```. Entre cada _progragotchi_ los atributos varían y existen tres generaciones de _progragotchis_ distintas:\n",
    "- ```Puroguragotchi``` : Su vida se obtiene con la fórmula: ```100 - peso * hambre```.  \n",
    "- ```Tamaprogra```: Si su edad es menos de 50, se obtiene con ```100 - edad * hambre```. Si es mayor o igual a 50, se obtiene con ```100 - 2 * edad / peso```.\n",
    "- ```DCGotchi```: Su vida se obtiene con la fórmula ```10 * peso - 4 * edad * hambre```.\n",
    "\n",
    "Debes cuidar que la vida de los _progragotchis_ no sea menor a 0.\n",
    "\n",
    "Puedes usar la siguiente base para modelar la situación:"
   ]
  },
  {
   "cell_type": "code",
   "execution_count": null,
   "metadata": {},
   "outputs": [],
   "source": [
    "class Progragotchi:\n",
    "    def __init__(self, nombre, edad, peso):\n",
    "        self.nombre = nombre\n",
    "        self.edad = edad\n",
    "        self.peso = peso\n",
    "        self.hambre = hambre\n",
    "    \n",
    "class Puroguragotchi(Progragotchi):\n",
    "    def __init__(self, nombre, edad, peso, hambre):\n",
    "        super().__init__(nombre, edad, peso, hambre)\n",
    "    \n",
    "    def obtener_vida(self):\n",
    "        # Completar\n",
    "        pass\n",
    "    \n",
    "    def __gt__(self, otro):\n",
    "        # Completar\n",
    "        pass\n",
    "\n",
    "class Tamaprogra(Progragotchi):\n",
    "    def __init__(self, nombre, edad, peso):\n",
    "        super().__init__(nombre, edad, peso, hambre)\n",
    "    \n",
    "    def obtener_vida(self):\n",
    "        # Completar\n",
    "        pass\n",
    "    \n",
    "    def __gt__(self, otro):\n",
    "        # Completar\n",
    "        pass\n",
    "    \n",
    "class DCGotchi(Progragotchi):\n",
    "    def __init__(self, nombre, edad, peso):\n",
    "        super().__init__(nombre, edad, peso, hambre)\n",
    "    \n",
    "    def obtener_vida(self):\n",
    "        # Completar\n",
    "        pass\n",
    "    \n",
    "    def __gt__(self, otro):\n",
    "        # Completar\n",
    "        pass"
   ]
  },
  {
   "cell_type": "markdown",
   "metadata": {},
   "source": [
    "Con el siguiente código puedes poblar y poner a prueba tu modelación:"
   ]
  },
  {
   "cell_type": "code",
   "execution_count": null,
   "metadata": {},
   "outputs": [],
   "source": [
    "from os import path\n",
    "\n",
    "progragotchis = []\n",
    "with open(path.join(\"data\", \"progragotchis.csv\")) as archivo:\n",
    "    archivo.readline()\n",
    "    for linea in archivo:\n",
    "        nombre, edad, peso, hambre, gen = linea.strip().split(\",\")\n",
    "        if gen == \"1\":\n",
    "            progragotchis.append(Puroguragotchi(nombre, int(edad), int(peso), int(hambre)))\n",
    "        elif gen == \"2\":\n",
    "            progragotchis.append(Tamaprogra(nombre, int(edad), int(peso), int(hambre)))\n",
    "        else:\n",
    "            progragotchis.append(DCGotchi(nombre, int(edad), int(peso), int(hambre)))\n",
    "progragotchis.sort()\n",
    "print(\"Los 10 progragotchis con más vida son:\")\n",
    "for i in range(10):\n",
    "    print(f\"{progragotchis[i].nombre}, con {int(progragotchis[i].obtener_vida())} de vida \")"
   ]
  },
  {
   "cell_type": "markdown",
   "metadata": {},
   "source": [
    "### Ejercicio 4.3: Clases de cultivos"
   ]
  },
  {
   "cell_type": "markdown",
   "metadata": {},
   "source": [
    "Para este problema tu misión es ayudar a Jorge. Él es un joven agricultor interesado en la computación, que ha decidido aplicar sus renovados estudios en saber cuanto gana de utilidad con sus cultivos. Jorge arrienda 2 campos que desea utilizar  para diferentes cultivos. El primero es de papas y el segundo de arandanos. La utilidad depende de cada tipo de cultivo y según características propias del campo. Para ayudar a Jorge, completarás el código a continuación, en donde se busca calcular la utilidad de cada campo, segun las especificaciones que se te daran a continuación.\n",
    "  \n",
    "\n",
    "En primer lugar, en el caso del campo donde se cultivan papas, su beneficio está dado por la fórmula: \n",
    "- ``10 * hectareas`` . Sólo debes modificar el método ``calcular_beneficio`` de la clase ``CampoPapas``.\n",
    "\n",
    "y su costo es de: \n",
    "- ``5 * hectareas + costos_variables ** 2 + maquinaria * 10 + arriendo`` , por lo que sólo debes modificar el método ``calcular_costo`` de la clase ``CampoPapas``\n",
    "\n",
    "\n",
    "En segundo lugar, en el caso del campo donde se cultivan arándanos, su beneficio está dado por la fórmula: \n",
    "- ``8 * hectareas + 2000`` . Sólo debes modificar el método ``calcular_beneficio`` de la clase ``CampoArandanos``.\n",
    "\n",
    "y su costo es de: \n",
    "- ``2 * hectareas + 7 * costos_variables + sueldos_temporeros + arriendo``, por lo que sólo debes modificar el método ``calcular_beneficio`` de la clase ``CampoArandanos``\n",
    "\n",
    "\n",
    "En tercer lugar, modifica el método ``calcular_utilidad`` de la clase ``Campo`` para que retorne las utilidades. Las utilidades en ambos tipos de cultivo están dadas por la simple formula: \n",
    "- ``utilidades = beneficios - costos.``\n",
    "\n",
    "\n",
    "Por último, debemos ayudar a Jorge a calcular el total de las utilidades que entrega todo su negocio de agricultura.  Para esto modificaremos el método ``__add__`` en la clase ``Campo``, con el objetivo que al sumar ambos campos, se nos entregue la suma de las utilidades."
   ]
  },
  {
   "cell_type": "code",
   "execution_count": null,
   "metadata": {},
   "outputs": [],
   "source": [
    "class Campo:\n",
    "    def __init__(self, arriendo, costos_variables, hectarias):\n",
    "        self.arriendo = arriendo\n",
    "        self.costos_variables = costos_variables\n",
    "        self.hectarias = hectarias\n",
    "        self.utilidad = 0\n",
    "        self.costo = 0\n",
    "        self.beneficio = 0\n",
    "\n",
    "    def calcular_beneficio(self):\n",
    "        pass\n",
    "\n",
    "    def calcular_costo(self):\n",
    "        pass\n",
    "\n",
    "    def calcular_utilidad(self):\n",
    "        # Completar\n",
    "        return self.utilidad\n",
    "\n",
    "    def __add__(self, campo):\n",
    "        # Completar\n",
    "        pass\n",
    "\n",
    "\n",
    "class CampoPapas(Campo):\n",
    "    def __init__(self, maquinaria,  arriendo, costos_variables, hectarias):\n",
    "        super().__init__(arriendo, costos_variables, hectarias)\n",
    "        self.maquinaria = maquinaria\n",
    "\n",
    "    def calcular_beneficio(self):\n",
    "        # Completar\n",
    "        return self.beneficio\n",
    "\n",
    "    def calcular_costo(self):\n",
    "        # Completar\n",
    "        return self.costo\n",
    "\n",
    "\n",
    "\n",
    "class CampoArandanos(Campo):\n",
    "    def __init__(self, sueldos_temporeros,  arriendo, costos_variables, hectarias):\n",
    "        super().__init__(arriendo, costos_variables, hectarias)\n",
    "        self.sueldos_temporeros = sueldos_temporeros\n",
    "\n",
    "    def calcular_beneficio(self):\n",
    "        # Completar\n",
    "        return self.beneficio\n",
    "\n",
    "    def calcular_costo(self):\n",
    "        # Completar\n",
    "        return self.costo\n",
    "\n",
    "\n",
    "if __name__ == \"__main__\":\n",
    "    campo_papas = CampoPapas(1220, 600, 15, 5500)\n",
    "    campo_arandanos = CampoArandanos(1200, 600, 200, 4000)\n",
    "    utilidad_campo1 = campo_papas.calcular_utilidad()\n",
    "    utilidad_campo2 = campo_arandanos.calcular_utilidad()\n",
    "    print(f'la utilidad del campo de papas es {utilidad_campo1} ')\n",
    "    print(f'la utilidad del campo de arandanos es {utilidad_campo2}')\n",
    "    utilidad_total = campo_papas + campo_arandanos\n",
    "    print(f'la utilidad total es de {utilidad_total}')"
   ]
  }
 ],
 "metadata": {
  "kernelspec": {
   "display_name": "Python 3",
   "language": "python",
   "name": "python3"
  },
  "language_info": {
   "codemirror_mode": {
    "name": "ipython",
    "version": 3
   },
   "file_extension": ".py",
   "mimetype": "text/x-python",
   "name": "python",
   "nbconvert_exporter": "python",
   "pygments_lexer": "ipython3",
   "version": "3.7.6-final"
  }
 },
 "nbformat": 4,
 "nbformat_minor": 2
}