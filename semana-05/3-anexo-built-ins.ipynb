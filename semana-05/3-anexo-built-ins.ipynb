{
 "cells": [
  {
   "cell_type": "markdown",
   "metadata": {},
   "source": [
    "<p>\n",
    "<font size='5' face='Georgia, Arial'>IIC2233 Apunte Programación Avanzada</font><br>\n",
    "<font size='1'>&copy; 2015 Karim Pichara - Christian Pieringer. Todos los derechos reservados.</font>\n",
    "<br>\n",
    "<font size='1'> Modificado en 2018-1, 2018-2, 2019-2 y 2020-1 por Equipo Docente IIC2233</font>\n",
    "</p>"
   ]
  },
  {
   "cell_type": "markdown",
   "metadata": {},
   "source": [
    "## Funciones *built-in* en Python\n",
    "\n",
    "Existen muchas funciones que vienen implementadas en Python, principalmente con el propósito de simplificar y \n",
    "abstraer cálculos que pueden aplicar a objetos de clases distintas (*duck typing*). Pueden revisar todas ellas en la [documentación de funciones](https://docs.python.org/3.7/library/functions.html) de Python. Veamos algunos ejemplos:"
   ]
  },
  {
   "cell_type": "markdown",
   "metadata": {},
   "source": [
    "### `len`\n",
    "\n",
    "Retorna el número de elementos que posee un contenedor, como por ejemplo una lista, un diccionario, un *set*, etc."
   ]
  },
  {
   "cell_type": "code",
   "execution_count": 1,
   "metadata": {},
   "outputs": [
    {
     "name": "stdout",
     "output_type": "stream",
     "text": [
      "6\n",
      "2\n"
     ]
    }
   ],
   "source": [
    "print(len([3, 4, 1, 5, 5, 2]))\n",
    "print(len({\"nombre\": \"Juan\", \"apellido\": \"Martínez\"}))"
   ]
  },
  {
   "cell_type": "markdown",
   "metadata": {},
   "source": [
    "La función `len()` aplicada a un objeto en particular (`objeto`) hace un llamado a `objeto.__len__()`. La función `__len__` viene implementada en varias clases de estructuras de datos _built-in_. \n",
    "\n",
    "Podemos ver que llamando a `objeto.__len__()` directamente obtenemos el mismo resultado que a través de `len(objeto)`"
   ]
  },
  {
   "cell_type": "code",
   "execution_count": 2,
   "metadata": {},
   "outputs": [
    {
     "name": "stdout",
     "output_type": "stream",
     "text": [
      "6\n",
      "2\n"
     ]
    }
   ],
   "source": [
    "print([3, 4, 1, 5, 5, 2].__len__())\n",
    "print({\"nombre\": \"Juan\", \"apellido\": \"Martínez\"}.__len__())"
   ]
  },
  {
   "cell_type": "markdown",
   "metadata": {},
   "source": [
    "También se puede hacer *overriding* del método `__len__`. Supongamos que queremos implementar un tipo especial de lista cuyo método `__len__` retorna el largo de la lista sin considerar los elementos que se repiten:"
   ]
  },
  {
   "cell_type": "code",
   "execution_count": 3,
   "metadata": {},
   "outputs": [
    {
     "name": "stdout",
     "output_type": "stream",
     "text": [
      "7\n"
     ]
    }
   ],
   "source": [
    "class MiLista(list):\n",
    "    \"\"\"Tipo especial de lista, donde len(lista)\n",
    "    retorna el largo sin considerar repetidos\"\"\"\n",
    "    \n",
    "    def __len__(self):\n",
    "        # Creamos un set con los datos que tenemos\n",
    "        datos_sin_repetir = set(self)\n",
    "        \n",
    "        # Retornamos el largo de este set aprovechando que elimina los repetidos\n",
    "        return len(datos_sin_repetir)\n",
    "    \n",
    "mi_lista = MiLista([1, 2, 3, 4, 5, 6, 6, 7, 7, 7, 7, 2, 2, 3, 3, 1, 1])\n",
    "print(len(mi_lista))"
   ]
  },
  {
   "cell_type": "markdown",
   "metadata": {},
   "source": [
    "### `__getitem__`\n",
    "\n",
    "Al definir esta función dentro de una clase, podemos acceder a los elementos mediante algún tipo de índice o llave usando la notación `objeto[valor]`. Esto da paso a dos comportamientos que podemos emular: una secuencia (donde hay un valor después de otro de manera ordenada, como una lista) o un *mapping* (donde hay llaves que permiten acceder a valores, como un diccionario)."
   ]
  },
  {
   "cell_type": "markdown",
   "metadata": {},
   "source": [
    "En el primer caso, donde queremos que nuestra clase se comporte como una secuencia, el método `__getitem__` debería recibir enteros (`int`) y lanzar la excepción `IndexError` si es que el índice no es válido."
   ]
  },
  {
   "cell_type": "code",
   "execution_count": 4,
   "metadata": {
    "scrolled": true
   },
   "outputs": [
    {
     "name": "stdout",
     "output_type": "stream",
     "text": [
      "Pidiendo el elemento 0:\n",
      "Pidiendo el elemento 15:\n"
     ]
    },
    {
     "ename": "IndexError",
     "evalue": "string index out of range",
     "output_type": "error",
     "traceback": [
      "\u001b[0;31m---------------------------------------------------------------------------\u001b[0m",
      "\u001b[0;31mIndexError\u001b[0m                                Traceback (most recent call last)",
      "\u001b[0;32m<ipython-input-4-299ab4436be0>\u001b[0m in \u001b[0;36m<module>\u001b[0;34m\u001b[0m\n\u001b[1;32m     10\u001b[0m \u001b[0menvoltorio\u001b[0m \u001b[0;34m=\u001b[0m \u001b[0mEnvoltorioString\u001b[0m\u001b[0;34m(\u001b[0m\u001b[0;34m\"Hola-Mundo\"\u001b[0m\u001b[0;34m)\u001b[0m\u001b[0;34m\u001b[0m\u001b[0;34m\u001b[0m\u001b[0m\n\u001b[1;32m     11\u001b[0m \u001b[0menvoltorio\u001b[0m\u001b[0;34m[\u001b[0m\u001b[0;36m0\u001b[0m\u001b[0;34m]\u001b[0m\u001b[0;34m\u001b[0m\u001b[0;34m\u001b[0m\u001b[0m\n\u001b[0;32m---> 12\u001b[0;31m \u001b[0menvoltorio\u001b[0m\u001b[0;34m[\u001b[0m\u001b[0;36m15\u001b[0m\u001b[0;34m]\u001b[0m\u001b[0;34m\u001b[0m\u001b[0;34m\u001b[0m\u001b[0m\n\u001b[0m",
      "\u001b[0;32m<ipython-input-4-299ab4436be0>\u001b[0m in \u001b[0;36m__getitem__\u001b[0;34m(self, i)\u001b[0m\n\u001b[1;32m      6\u001b[0m     \u001b[0;32mdef\u001b[0m \u001b[0m__getitem__\u001b[0m\u001b[0;34m(\u001b[0m\u001b[0mself\u001b[0m\u001b[0;34m,\u001b[0m \u001b[0mi\u001b[0m\u001b[0;34m)\u001b[0m\u001b[0;34m:\u001b[0m\u001b[0;34m\u001b[0m\u001b[0;34m\u001b[0m\u001b[0m\n\u001b[1;32m      7\u001b[0m         \u001b[0mprint\u001b[0m\u001b[0;34m(\u001b[0m\u001b[0;34mf\"Pidiendo el elemento {i}:\"\u001b[0m\u001b[0;34m)\u001b[0m\u001b[0;34m\u001b[0m\u001b[0;34m\u001b[0m\u001b[0m\n\u001b[0;32m----> 8\u001b[0;31m         \u001b[0;32mreturn\u001b[0m \u001b[0mself\u001b[0m\u001b[0;34m.\u001b[0m\u001b[0mpalabra\u001b[0m\u001b[0;34m[\u001b[0m\u001b[0mi\u001b[0m\u001b[0;34m]\u001b[0m\u001b[0;34m\u001b[0m\u001b[0;34m\u001b[0m\u001b[0m\n\u001b[0m\u001b[1;32m      9\u001b[0m \u001b[0;34m\u001b[0m\u001b[0m\n\u001b[1;32m     10\u001b[0m \u001b[0menvoltorio\u001b[0m \u001b[0;34m=\u001b[0m \u001b[0mEnvoltorioString\u001b[0m\u001b[0;34m(\u001b[0m\u001b[0;34m\"Hola-Mundo\"\u001b[0m\u001b[0;34m)\u001b[0m\u001b[0;34m\u001b[0m\u001b[0;34m\u001b[0m\u001b[0m\n",
      "\u001b[0;31mIndexError\u001b[0m: string index out of range"
     ]
    }
   ],
   "source": [
    "class EnvoltorioString:\n",
    "    \n",
    "    def __init__(self, palabra=None):\n",
    "        self.palabra = palabra\n",
    "        \n",
    "    def __getitem__(self, i):\n",
    "        print(f\"Pidiendo el elemento {i}:\")\n",
    "        return self.palabra[i]\n",
    "\n",
    "envoltorio = EnvoltorioString(\"Hola-Mundo\")\n",
    "envoltorio[0]\n",
    "envoltorio[15]"
   ]
  },
  {
   "cell_type": "markdown",
   "metadata": {},
   "source": [
    "Definir `__getitem__`, para que nuestra clase se comporte como una secuencia, nos permite iterar sobre la estructura mediante un `for`, es decir, el objeto será **iterable**. En este caso, el `for` irá pidiendo los elementos desde el 0 en adelante hasta que se lance una excepción. En nuestro ejemplo, esto nos permite iterar sobre la palabra completa. Al intentar acceder fuera del largo de la palabra que estamos guardando, se lanza una exepción de tipo `IndexError` que detendrá el `for`."
   ]
  },
  {
   "cell_type": "code",
   "execution_count": 5,
   "metadata": {
    "scrolled": false
   },
   "outputs": [
    {
     "name": "stdout",
     "output_type": "stream",
     "text": [
      "Pidiendo el elemento 0:\n",
      "H\n",
      "\n",
      "Pidiendo el elemento 1:\n",
      "o\n",
      "\n",
      "Pidiendo el elemento 2:\n",
      "l\n",
      "\n",
      "Pidiendo el elemento 3:\n",
      "a\n",
      "\n",
      "Pidiendo el elemento 4:\n",
      "-\n",
      "\n",
      "Pidiendo el elemento 5:\n",
      "M\n",
      "\n",
      "Pidiendo el elemento 6:\n",
      "u\n",
      "\n",
      "Pidiendo el elemento 7:\n",
      "n\n",
      "\n",
      "Pidiendo el elemento 8:\n",
      "d\n",
      "\n",
      "Pidiendo el elemento 9:\n",
      "o\n",
      "\n",
      "Pidiendo el elemento 10:\n"
     ]
    }
   ],
   "source": [
    "for caracter in envoltorio:\n",
    "    print(caracter)\n",
    "    print()"
   ]
  },
  {
   "cell_type": "markdown",
   "metadata": {},
   "source": [
    "En el caso de que queramos que nuestra clase se comporte como una estructura de tipo *mapping*, podemos usar cualquier tipo de llave. Si una llave es del tipo equivocado, debería lanzarse la excepción `TypeError`, mientras que si es del tipo correcto pero la llave no existe debería lanzarse la excepción `KeyError`."
   ]
  },
  {
   "cell_type": "markdown",
   "metadata": {},
   "source": [
    "El siguiente ejemplo es similar al primero, pero las llaves son *strings* de una palabra y el valor retornado es la cantidad de veces que aparece dicho *string* en la palabra. Como habrás notado, ahora nuestra función `__getitem__` debería recibir un *string*, lanzando la excepción `TypeError` si no es así."
   ]
  },
  {
   "cell_type": "code",
   "execution_count": 6,
   "metadata": {},
   "outputs": [
    {
     "name": "stdout",
     "output_type": "stream",
     "text": [
      "Pidiendo el elemento o:\n"
     ]
    },
    {
     "data": {
      "text/plain": [
       "2"
      ]
     },
     "execution_count": 6,
     "metadata": {},
     "output_type": "execute_result"
    }
   ],
   "source": [
    "class ContadorLetras:\n",
    "    \n",
    "    def __init__(self, palabra=None):\n",
    "        self.palabra = palabra\n",
    "        \n",
    "    def __getitem__(self, key):\n",
    "        print(f\"Pidiendo el elemento {key}:\")\n",
    "        # Notar que puedes decir levantar una excepción si la llave no está\n",
    "        # if key not in self.palabra:\n",
    "        #     raise KeyError(\"La letra no está en la palabra\")\n",
    "        return self.palabra.count(key)\n",
    "\n",
    "contador_letras = ContadorLetras(\"Hola-Mundo\")\n",
    "contador_letras[\"o\"]"
   ]
  },
  {
   "cell_type": "code",
   "execution_count": 7,
   "metadata": {},
   "outputs": [
    {
     "name": "stdout",
     "output_type": "stream",
     "text": [
      "Pidiendo el elemento 3:\n"
     ]
    },
    {
     "ename": "TypeError",
     "evalue": "must be str, not int",
     "output_type": "error",
     "traceback": [
      "\u001b[0;31m---------------------------------------------------------------------------\u001b[0m",
      "\u001b[0;31mTypeError\u001b[0m                                 Traceback (most recent call last)",
      "\u001b[0;32m<ipython-input-7-7bb8cccaafc0>\u001b[0m in \u001b[0;36m<module>\u001b[0;34m\u001b[0m\n\u001b[0;32m----> 1\u001b[0;31m \u001b[0mcontador_letras\u001b[0m\u001b[0;34m[\u001b[0m\u001b[0;36m3\u001b[0m\u001b[0;34m]\u001b[0m\u001b[0;34m\u001b[0m\u001b[0;34m\u001b[0m\u001b[0m\n\u001b[0m",
      "\u001b[0;32m<ipython-input-6-d4d86e30a7d3>\u001b[0m in \u001b[0;36m__getitem__\u001b[0;34m(self, key)\u001b[0m\n\u001b[1;32m      9\u001b[0m         \u001b[0;31m# if key not in self.palabra:\u001b[0m\u001b[0;34m\u001b[0m\u001b[0;34m\u001b[0m\u001b[0;34m\u001b[0m\u001b[0m\n\u001b[1;32m     10\u001b[0m         \u001b[0;31m#     raise KeyError(\"La letra no está en la palabra\")\u001b[0m\u001b[0;34m\u001b[0m\u001b[0;34m\u001b[0m\u001b[0;34m\u001b[0m\u001b[0m\n\u001b[0;32m---> 11\u001b[0;31m         \u001b[0;32mreturn\u001b[0m \u001b[0mself\u001b[0m\u001b[0;34m.\u001b[0m\u001b[0mpalabra\u001b[0m\u001b[0;34m.\u001b[0m\u001b[0mcount\u001b[0m\u001b[0;34m(\u001b[0m\u001b[0mkey\u001b[0m\u001b[0;34m)\u001b[0m\u001b[0;34m\u001b[0m\u001b[0;34m\u001b[0m\u001b[0m\n\u001b[0m\u001b[1;32m     12\u001b[0m \u001b[0;34m\u001b[0m\u001b[0m\n\u001b[1;32m     13\u001b[0m \u001b[0mcontador_letras\u001b[0m \u001b[0;34m=\u001b[0m \u001b[0mContadorLetras\u001b[0m\u001b[0;34m(\u001b[0m\u001b[0;34m\"Hola-Mundo\"\u001b[0m\u001b[0;34m)\u001b[0m\u001b[0;34m\u001b[0m\u001b[0;34m\u001b[0m\u001b[0m\n",
      "\u001b[0;31mTypeError\u001b[0m: must be str, not int"
     ]
    }
   ],
   "source": [
    "contador_letras[3]"
   ]
  },
  {
   "cell_type": "markdown",
   "metadata": {},
   "source": [
    "Como supondrás, usar un `for` con nuestra implementación no funcionará, ya que al iterar sobre el objeto se utiliza el índice para acceder a los elementos. "
   ]
  },
  {
   "cell_type": "code",
   "execution_count": 8,
   "metadata": {},
   "outputs": [
    {
     "name": "stdout",
     "output_type": "stream",
     "text": [
      "Pidiendo el elemento 0:\n"
     ]
    },
    {
     "ename": "TypeError",
     "evalue": "must be str, not int",
     "output_type": "error",
     "traceback": [
      "\u001b[0;31m---------------------------------------------------------------------------\u001b[0m",
      "\u001b[0;31mTypeError\u001b[0m                                 Traceback (most recent call last)",
      "\u001b[0;32m<ipython-input-8-3649a985adb9>\u001b[0m in \u001b[0;36m<module>\u001b[0;34m\u001b[0m\n\u001b[0;32m----> 1\u001b[0;31m \u001b[0;32mfor\u001b[0m \u001b[0mi\u001b[0m \u001b[0;32min\u001b[0m \u001b[0mcontador_letras\u001b[0m\u001b[0;34m:\u001b[0m\u001b[0;34m\u001b[0m\u001b[0;34m\u001b[0m\u001b[0m\n\u001b[0m\u001b[1;32m      2\u001b[0m     \u001b[0mprint\u001b[0m\u001b[0;34m(\u001b[0m\u001b[0mi\u001b[0m\u001b[0;34m)\u001b[0m\u001b[0;34m\u001b[0m\u001b[0;34m\u001b[0m\u001b[0m\n",
      "\u001b[0;32m<ipython-input-6-d4d86e30a7d3>\u001b[0m in \u001b[0;36m__getitem__\u001b[0;34m(self, key)\u001b[0m\n\u001b[1;32m      9\u001b[0m         \u001b[0;31m# if key not in self.palabra:\u001b[0m\u001b[0;34m\u001b[0m\u001b[0;34m\u001b[0m\u001b[0;34m\u001b[0m\u001b[0m\n\u001b[1;32m     10\u001b[0m         \u001b[0;31m#     raise KeyError(\"La letra no está en la palabra\")\u001b[0m\u001b[0;34m\u001b[0m\u001b[0;34m\u001b[0m\u001b[0;34m\u001b[0m\u001b[0m\n\u001b[0;32m---> 11\u001b[0;31m         \u001b[0;32mreturn\u001b[0m \u001b[0mself\u001b[0m\u001b[0;34m.\u001b[0m\u001b[0mpalabra\u001b[0m\u001b[0;34m.\u001b[0m\u001b[0mcount\u001b[0m\u001b[0;34m(\u001b[0m\u001b[0mkey\u001b[0m\u001b[0;34m)\u001b[0m\u001b[0;34m\u001b[0m\u001b[0;34m\u001b[0m\u001b[0m\n\u001b[0m\u001b[1;32m     12\u001b[0m \u001b[0;34m\u001b[0m\u001b[0m\n\u001b[1;32m     13\u001b[0m \u001b[0mcontador_letras\u001b[0m \u001b[0;34m=\u001b[0m \u001b[0mContadorLetras\u001b[0m\u001b[0;34m(\u001b[0m\u001b[0;34m\"Hola-Mundo\"\u001b[0m\u001b[0;34m)\u001b[0m\u001b[0;34m\u001b[0m\u001b[0;34m\u001b[0m\u001b[0m\n",
      "\u001b[0;31mTypeError\u001b[0m: must be str, not int"
     ]
    }
   ],
   "source": [
    "for i in contador_letras:\n",
    "    print(i)"
   ]
  },
  {
   "cell_type": "markdown",
   "metadata": {},
   "source": [
    "### `reversed`\n",
    "\n",
    "La función `reversed()` toma una **secuencia** cualquiera como input y retorna **una copia de la secuencia** en orden inverso. También podemos personalizar la función haciendo *overriding* de `__reversed__` en cada clase. \n",
    "\n",
    "Si no personalizamos el método `__reversed__`, se usará el *built-in* que iterará usando `__getitem__` y `__len__`. En ese caso, se itera `__len__` veces sobre el objeto usando `__getitem__` hacia atrás.\n",
    "\n",
    "Por ejemplo, podemos definir un tipo especial de lista que hace *override* de `__reversed__`. En este caso, intercambia la primera mitad con la segunda, en vez de invertir el orden de los elementos."
   ]
  },
  {
   "cell_type": "code",
   "execution_count": 9,
   "metadata": {},
   "outputs": [
    {
     "name": "stdout",
     "output_type": "stream",
     "text": [
      "Clase list: 6, 5, 4, 3, 2, 1, \n",
      "Clase ListaReversaMitad: 4, 5, 6, 1, 2, 3, \n"
     ]
    }
   ],
   "source": [
    "lista = [1, 2, 3, 4, 5, 6]\n",
    "\n",
    "\n",
    "class ListaReversaMitad(list):\n",
    "    \n",
    "    def __init__(self, *args):\n",
    "        super().__init__(args)\n",
    "        \n",
    "    def __reversed__(self):\n",
    "        mitad = len(self) // 2\n",
    "        return self[mitad:] + self[:mitad]\n",
    "    \n",
    "\n",
    "for secuencia in lista, ListaReversaMitad(*lista):\n",
    "    print(f\"Clase {type(secuencia).__name__}: \", end=\"\")\n",
    "    for elemento in reversed(secuencia):\n",
    "        print(elemento, end=\", \")\n",
    "    print()"
   ]
  },
  {
   "cell_type": "markdown",
   "metadata": {},
   "source": [
    "### `enumerate`\n",
    "\n",
    "`enumerate()` entrega una especie de generador que retorna tuplas, donde el primer objeto en cada tupla es el indice y el segundo es el ítem original. Por ejemplo, si queremos iterar sobre una lista, y necesitamos obtener tanto el índice como su valor, una forma poco *pythonic* de hacer esto sería la siguiente:"
   ]
  },
  {
   "cell_type": "code",
   "execution_count": 10,
   "metadata": {},
   "outputs": [
    {
     "name": "stdout",
     "output_type": "stream",
     "text": [
      "0: a\n",
      "1: b\n",
      "2: c\n",
      "3: d\n"
     ]
    }
   ],
   "source": [
    "lista = [\"a\",\"b\",\"c\",\"d\"]\n",
    "\n",
    "for indice in range(len(lista)):\n",
    "    elemento = lista[indice]\n",
    "    print(f\"{indice}: {elemento}\")"
   ]
  },
  {
   "cell_type": "markdown",
   "metadata": {},
   "source": [
    "La función `enumerate` nos permite hacer exactamente mismo, pero de una forma más elegante y *pythonic*:"
   ]
  },
  {
   "cell_type": "code",
   "execution_count": 11,
   "metadata": {},
   "outputs": [
    {
     "name": "stdout",
     "output_type": "stream",
     "text": [
      "0: a\n",
      "1: b\n",
      "2: c\n",
      "3: d\n"
     ]
    }
   ],
   "source": [
    "for indice, elemento in enumerate(lista):\n",
    "    print(f\"{indice}: {elemento}\")"
   ]
  },
  {
   "cell_type": "markdown",
   "metadata": {},
   "source": [
    "Notar que la función `enumerate` retorna un objeto de tipo `enumerate`, que se comporta de manera similar a un generador, por lo que puedes usar `next` para acceder a sus elementos, y eso es lo que permite utilizarlo en un `for`."
   ]
  },
  {
   "cell_type": "markdown",
   "metadata": {},
   "source": [
    "### `zip`\n",
    "\n",
    "Toma dos o más secuencias o iterables y retorna un iterador que entrega tuplas, donde cada tupla está formada por los elementos i-ésimos de cada una de las secuencias o iterables. La cantidad de elementos que retorna este iterador es igual al menor de los largos de las secuencias o iterables.\n",
    "\n",
    "De manera similar a `enumerate`, `zip` retorna un objeto de tipo `zip` que se comporta de manera similar a un generador, por lo que también se puede usar `next` para acceder a sus elementos. Además de tener los mismos beneficios que un generador regular (ocupa poco espacio y \"genera\" los elementos a medida que son requeridos)."
   ]
  },
  {
   "cell_type": "markdown",
   "metadata": {},
   "source": [
    "A modo de ejemplo, consideremos que tenemos una tupla con los *headers* (o nombres de columnas) de un `CSV` y una tupla con los datos de una persona en particular. Queremos obtener una lista con tuplas, donde en cada una aparezca el *header* con su valor:"
   ]
  },
  {
   "cell_type": "code",
   "execution_count": 12,
   "metadata": {},
   "outputs": [
    {
     "data": {
      "text/plain": [
       "[('nombre', 'Juan'), ('apellido', 'Perez'), ('email', 'jp1@hotmail.com')]"
      ]
     },
     "execution_count": 12,
     "metadata": {},
     "output_type": "execute_result"
    }
   ],
   "source": [
    "columnas = (\"nombre\", \"apellido\", \"email\")\n",
    "persona = (\"Juan\", \"Perez\", \"jp1@hotmail.com\")\n",
    "\n",
    "list(zip(columnas, persona))"
   ]
  },
  {
   "cell_type": "markdown",
   "metadata": {},
   "source": [
    "Si ampliamos nuestro ejemplo con una lista de tuplas de personas:"
   ]
  },
  {
   "cell_type": "code",
   "execution_count": 13,
   "metadata": {},
   "outputs": [
    {
     "data": {
      "text/plain": [
       "[('nombre', 'Juan', 'Gonzalo', 'Alberto'),\n",
       " ('apellido', 'Perez', 'Aldunate', 'Gomez'),\n",
       " ('email', 'jp1@hotmail.com', 'gan@gmail.com', 'agomez@yahoo.com')]"
      ]
     },
     "execution_count": 13,
     "metadata": {},
     "output_type": "execute_result"
    }
   ],
   "source": [
    "columnas = (\"nombre\", \"apellido\", \"email\")\n",
    "personas = [\n",
    "            (\"Juan\", \"Perez\", \"jp1@hotmail.com\"), \n",
    "            (\"Gonzalo\", \"Aldunate\", \"gan@gmail.com\"),\n",
    "            (\"Alberto\", \"Gomez\", \"agomez@yahoo.com\")\n",
    "           ]\n",
    "\n",
    "# El asterico simple es para pasar la lista de personas como argumentos separados:\n",
    "# Si personas = [p1, p2, p3], entonces lo siguiente es equivalente a zip(columnas, p1, p2, p3)\n",
    "list(zip(columnas, *personas))"
   ]
  },
  {
   "cell_type": "markdown",
   "metadata": {},
   "source": [
    "También recordemos que `zip` sólo tomará la cantidad de elementos del iterable más corto. Si quieres que tome en cuenta la lista más larga puedes ver la función [`zip_longest`](https://docs.python.org/3.7/library/itertools.html#itertools.zip_longest) del paquete `itertools`."
   ]
  },
  {
   "cell_type": "code",
   "execution_count": 14,
   "metadata": {},
   "outputs": [
    {
     "data": {
      "text/plain": [
       "[('nombre', 'Juan'), ('apellido', 'Perez'), ('email', 'jp1@hotmail.com')]"
      ]
     },
     "execution_count": 14,
     "metadata": {},
     "output_type": "execute_result"
    }
   ],
   "source": [
    "columnas = (\"nombre\", \"apellido\", \"email\")\n",
    "persona = (\"Juan\", \"Perez\", \"jp1@hotmail.com\", \"+56123123??\")\n",
    "\n",
    "list(zip(columnas, persona))"
   ]
  },
  {
   "cell_type": "markdown",
   "metadata": {},
   "source": [
    "#### `zip` como inversa de sí misma\n",
    "\n",
    "`zip` en conjunto con el operador `*` (usado para desempacar listas o tuplas a argumentos de una función) puede ser usado como inversa de la operación `zip`."
   ]
  },
  {
   "cell_type": "code",
   "execution_count": 15,
   "metadata": {},
   "outputs": [
    {
     "name": "stdout",
     "output_type": "stream",
     "text": [
      "[(1, 'a'), (2, 'b'), (3, 'c'), (4, 'd')]\n"
     ]
    }
   ],
   "source": [
    "a = [1, 2, 3, 4]\n",
    "b = [\"a\", \"b\", \"c\", \"d\"]\n",
    "\n",
    "zipped = zip(a, b)\n",
    "zipped = list(zipped)\n",
    "print(zipped)"
   ]
  },
  {
   "cell_type": "code",
   "execution_count": 16,
   "metadata": {},
   "outputs": [
    {
     "name": "stdout",
     "output_type": "stream",
     "text": [
      "[(1, 2, 3, 4), ('a', 'b', 'c', 'd')]\n"
     ]
    }
   ],
   "source": [
    "unzipped = zip(*zipped)\n",
    "unzipped = list(unzipped)\n",
    "print(unzipped)"
   ]
  },
  {
   "cell_type": "markdown",
   "metadata": {},
   "source": [
    "En el ejemplo, al ejecutar `zip(*zipped)` el desempaquetamiento entrega los 4 iterables a `zip` **por separado**. Cada uno de estos iterables tiene largo 2. Luego, `zip` concatena todos los primeros elementos `(1, 2, 3, 4)` y luego todos los segundos elementos `('a', 'b', 'c', 'd')`, volviendo a como estaba en un principio."
   ]
  }
 ],
 "metadata": {
  "kernelspec": {
   "display_name": "Python 3",
   "language": "python",
   "name": "python3"
  },
  "language_info": {
   "codemirror_mode": {
    "name": "ipython",
    "version": 3
   },
   "file_extension": ".py",
   "mimetype": "text/x-python",
   "name": "python",
   "nbconvert_exporter": "python",
   "pygments_lexer": "ipython3",
   "version": "3.7.9"
  }
 },
 "nbformat": 4,
 "nbformat_minor": 2
}
