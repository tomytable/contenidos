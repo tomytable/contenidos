{
 "cells": [
  {
   "cell_type": "markdown",
   "metadata": {},
   "source": [
    "<p>\n",
    "<font size='5' face='Georgia, Arial'>IIC-2233 Apunte Programación Avanzada</font><br>\n",
    "<font size='1'>&copy; 2016-2017 Ivania Donoso - Antonio Ossa. Editado en 2018-2, 2019-1 y 2020-1 por Equipo Docente IIC2233.</font>\n",
    "</p>"
   ]
  },
  {
   "cell_type": "markdown",
   "metadata": {},
   "source": [
    "## Cómo recorrer o buscar en un grafo\n",
    "\n",
    "Podemos recorrer un grafo usando los mismos métodos que utilizamos para árboles (BFS y DFS). Pero, debemos tener cuidado en la implementación.\n",
    "\n",
    "Vamos a realizar estos recorridos sobre el grafo de amistades que ya hemos utilizado."
   ]
  },
  {
   "cell_type": "code",
   "execution_count": 11,
   "metadata": {},
   "outputs": [
    {
     "data": {
      "text/plain": [
       "Amigos de Bastián: {Ivania, Florencia B, Matías, Florencia V, Freddie, Antonio}.\n",
       "Amigos de Florencia V: {Freddie, Florencia B, Ivania}.\n",
       "Amigos de Antonio: {Ivania, Matías, Florencia V}.\n",
       "Amigos de Matías: {Freddie, Antonio}.\n",
       "Amigos de Florencia B: {Matías, Antonio, Ivania, Florencia V}.\n",
       "Amigos de Ivania: {Florencia B, Antonio, Freddie, Florencia V}.\n",
       "Amigos de Freddie: {Antonio, Bastián}."
      ]
     },
     "execution_count": 11,
     "metadata": {},
     "output_type": "execute_result"
    }
   ],
   "source": [
    "# Utilizaremos estas definiciones para Persona, Nodo y para Grafo, que ya habíamos revisado anteriormente.\n",
    "class Persona:\n",
    "\n",
    "    def __init__(self, nombre, edad):\n",
    "        self.nombre = nombre\n",
    "        self.edad = edad\n",
    "\n",
    "    def __repr__(self):\n",
    "        return self.nombre\n",
    "\n",
    "    \n",
    "    \n",
    "class Nodo:\n",
    "\n",
    "    def __init__(self, valor):\n",
    "        self.valor = valor\n",
    "        \n",
    "    def __repr__(self):\n",
    "        return repr(self.valor)\n",
    "    \n",
    "\n",
    "    \n",
    "class Grafo:\n",
    "\n",
    "    def __init__(self, lista_adyacencia=None):\n",
    "        self.lista_adyacencia = lista_adyacencia or {}\n",
    "\n",
    "    def adyacentes(self, x, y):\n",
    "        return y in self.lista_adyacencia[x]\n",
    "\n",
    "    def vecinos(self, x):\n",
    "        return self.lista_adyacencia[x]\n",
    "\n",
    "    def agregar_vertice(self, x):\n",
    "        self.lista_adyacencia[x] = set()\n",
    "\n",
    "    def remover_vertice(self, x):\n",
    "        self.lista_adyacencia.pop(x, None)\n",
    "        for k, v in self.lista_adyacencia.items():\n",
    "            if x in v:\n",
    "                v.remove(x)\n",
    "\n",
    "    def agregar_arista(self, x, y):\n",
    "        if x in self.lista_adyacencia:\n",
    "            self.lista_adyacencia[x].add(y)\n",
    "\n",
    "    def remover_arista(self, x, y):\n",
    "        vecinos_x = self.lista_adyacencia.get(x, set())\n",
    "        if y in vecinos_x:\n",
    "            vecinos_x.remove(y)\n",
    "\n",
    "    def __repr__(self):\n",
    "        texto_nodos = []\n",
    "        for nodo, vecinos in self.lista_adyacencia.items():\n",
    "            texto_nodos.append(f\"Amigos de {nodo}: {vecinos}.\")\n",
    "        return \"\\n\".join(texto_nodos)\n",
    "    \n",
    "\n",
    "## Y creamos algunos nodos, y un grafo de amistades\n",
    "# Creamos a nuestros ayudantes y los guardamos en nodos.\n",
    "\n",
    "bamavrakis = Nodo(Persona(\"Bastián\", 15))\n",
    "fvr1 = Nodo(Persona(\"Florencia V\", 20))\n",
    "aaossa = Nodo(Persona(\"Antonio\", 21))\n",
    "flobarrios = Nodo(Persona(\"Florencia B\", 20))\n",
    "mjjunemann = Nodo(Persona(\"Matías\", 20))\n",
    "fgvenegas = Nodo(Persona(\"Freddie\", 10))\n",
    "indonoso = Nodo(Persona(\"Ivania\", 22))\n",
    "\n",
    "# Definimos las amistades.\n",
    "\n",
    "amistades = {\n",
    "    bamavrakis: set([fvr1, aaossa, flobarrios, mjjunemann, fgvenegas, indonoso]),\n",
    "    fvr1: set([flobarrios, fgvenegas, indonoso]),\n",
    "    aaossa: set([fvr1, mjjunemann, indonoso]),\n",
    "    mjjunemann: set([aaossa, fgvenegas]),\n",
    "    flobarrios: set([fvr1, aaossa, mjjunemann, indonoso]),\n",
    "    indonoso: set([fvr1, aaossa, flobarrios, fgvenegas]),\n",
    "    fgvenegas: set([aaossa, bamavrakis])\n",
    "}\n",
    "\n",
    "grafo = Grafo(amistades)\n",
    "grafo"
   ]
  },
  {
   "cell_type": "markdown",
   "metadata": {},
   "source": [
    "Ahora intentaremos aplicar el mismo algoritmo de BFS que usamos para un árbol. Agregaremos un argumento `limite` para limitar la cantidad de nodos que visitamos:"
   ]
  },
  {
   "cell_type": "code",
   "execution_count": 12,
   "metadata": {},
   "outputs": [],
   "source": [
    "from collections import deque\n",
    "\n",
    "\n",
    "def bfs(grafo, inicio, limite = 20):   \n",
    "    # La cola de siempre, comienza desde el nodo inicio.\n",
    "    cola = deque([inicio])\n",
    "    \n",
    "    # Mientras queden vertices por visitar y no nos pasemos del limite de navegación\n",
    "    while len(cola) > 0 and limite > 0:\n",
    "        # Obtenemos de la cola el próximo vertice\n",
    "        vertice = cola.popleft()\n",
    "        print(vertice)\n",
    "        # Agregamos los vecinos al stack\n",
    "        for vecino in grafo[vertice]:\n",
    "            cola.append(vecino)\n",
    "        # Visitamos un nodo, bajamos el límite en 1\n",
    "        limite -= 1\n",
    "        "
   ]
  },
  {
   "cell_type": "markdown",
   "metadata": {},
   "source": [
    "Ahora intentemos recorrer el grafo de amistades anterior, partiendo por Bastían:"
   ]
  },
  {
   "cell_type": "code",
   "execution_count": 13,
   "metadata": {},
   "outputs": [
    {
     "name": "stdout",
     "output_type": "stream",
     "text": [
      "Bastián\n",
      "Ivania\n",
      "Florencia B\n",
      "Matías\n",
      "Florencia V\n",
      "Freddie\n",
      "Antonio\n",
      "Florencia B\n",
      "Antonio\n",
      "Freddie\n",
      "Florencia V\n",
      "Matías\n",
      "Antonio\n",
      "Ivania\n",
      "Florencia V\n",
      "Freddie\n",
      "Antonio\n",
      "Freddie\n",
      "Florencia B\n",
      "Ivania\n"
     ]
    }
   ],
   "source": [
    "bfs(amistades, bamavrakis)"
   ]
  },
  {
   "cell_type": "markdown",
   "metadata": {},
   "source": [
    "Notamos rápidamente que lo impreso está repitiendo nombres. Si aumentamos `limite`, sigue pasando lo mismo. ¿Qué ocurre? \n",
    "\n",
    "Si vemos las amistades, eventualmente encontraremos que hay un ciclo de personas que son amigos uno tras el otro, volviendo a la persona inicial. Por ejemplo, Matías y Antonio son amigos mutuamente. Al mismo tiempo, Bastián tiene de amiga a Florencia B, quien tiene de amigo a Matías, quien tiene de amigo a Freddie, quien tiene de amigo a Bastián nuevamente. Luego, al visitar estos vértices, volvemos a agregar vértices que ya revisamos. Quedamos atrapados en un **ciclo** dentro del grafo.\n",
    "\n",
    "¿Por qué no pasó esto con los árboles? Porque debido a la estructura de un árbol, solo hay **una única** forma de llegar a un vértice cualquiera, a través de su padre. Es decir, nunca se agrega dos veces un mismo vértice con el algoritmo anterior (para un árbol). Sin embargo, en el caso más general de los grafos, **debemos recordar qué vértices hemos visitado** hasta el momento, pues un grafo puede contener ciclos. Esto es importante para no quedarse atrapado en uno; en caso contrario, nuestro programa _nunca_ terminaría. De no agregar el límite en el ejemplo anterior, éste nunca terminaría.\n",
    "\n",
    "A continuación, veremos las implementaciones para BFS y DFS que sí verifica no recorrer dos veces un mismo vértice."
   ]
  },
  {
   "cell_type": "markdown",
   "metadata": {},
   "source": [
    "### BFS\n",
    "\n",
    "BFS recorre exhaustivamente el grafo, dado un punto de partida. Por lo tanto, si un nodo no fue visitado en el recorrido, significa que **no es alcanzable** desde ese punto de partida. \n",
    "\n",
    "Cabe mencionar que BFS no es un algorítmo recursivo. Dado un nodo de inicio, se exploran todos sus vecinos antes de explorar los vecinos de ellos. Por eso se llama _breadth_: de amplitud.\n",
    "\n",
    "BFS es generalmente mejor que DFS para encontrar el camino más corto entre dos nodos (o cualquier camino)."
   ]
  },
  {
   "cell_type": "code",
   "execution_count": 16,
   "metadata": {},
   "outputs": [],
   "source": [
    "from collections import deque\n",
    "\n",
    "def bfs(grafo, inicio):\n",
    "    # Vamos a mantener una lista con los nodos visitados.\n",
    "    visitados = []\n",
    "    # La cola de siempre, comienza desde el nodo inicio.\n",
    "    queue = deque([inicio])\n",
    "    \n",
    "    while len(queue) > 0:\n",
    "        vertice = queue.popleft()\n",
    "        # Detalle clave: si ya visitamos el nodo, no hacemos nada!\n",
    "        if vertice in visitados:\n",
    "            continue\n",
    "\n",
    "        # Lo visitamos\n",
    "        print(vertice)\n",
    "        visitados.append(vertice)\n",
    "        # Agregamos los vecinos a la cola si es que no han sido visitados.\n",
    "        for vecino in grafo[vertice]:\n",
    "            if vecino not in visitados:\n",
    "                queue.append(vecino)\n",
    "    return visitados"
   ]
  },
  {
   "cell_type": "code",
   "execution_count": 17,
   "metadata": {},
   "outputs": [
    {
     "name": "stdout",
     "output_type": "stream",
     "text": [
      "Bastián\n",
      "Ivania\n",
      "Florencia B\n",
      "Matías\n",
      "Florencia V\n",
      "Freddie\n",
      "Antonio\n"
     ]
    },
    {
     "data": {
      "text/plain": [
       "[Bastián, Ivania, Florencia B, Matías, Florencia V, Freddie, Antonio]"
      ]
     },
     "execution_count": 17,
     "metadata": {},
     "output_type": "execute_result"
    }
   ],
   "source": [
    "bfs(amistades, bamavrakis)"
   ]
  },
  {
   "cell_type": "markdown",
   "metadata": {},
   "source": [
    "Notamos que (1) el algoritmo termina gracias a que mantenemos un registro en `visitados` de todos los nodos revisados y (2) que obtenemos todas las personas como resultado, ya que todas son alcanzables desde alguna otra persona (grafo conexo). \n",
    "\n",
    "Pero si cambiamos un poco el grafo, dónde no todos los nodos son alcanzables desde otros nodos, solo obtenemos algunos:"
   ]
  },
  {
   "cell_type": "code",
   "execution_count": 19,
   "metadata": {},
   "outputs": [],
   "source": [
    "grafo = {\n",
    "    'A': ['B', 'C'],\n",
    "    'B': ['D', 'A'],\n",
    "    'C': ['D'],\n",
    "    'D': ['B'],\n",
    "    'E': ['F'],\n",
    "    'F': ['E'],\n",
    "    'G': ['A', 'F'],\n",
    "}"
   ]
  },
  {
   "cell_type": "code",
   "execution_count": 20,
   "metadata": {},
   "outputs": [
    {
     "name": "stdout",
     "output_type": "stream",
     "text": [
      "A\n",
      "B\n",
      "C\n",
      "D\n",
      "Nodos alcanzables desde A: ['A', 'B', 'C', 'D']\n"
     ]
    }
   ],
   "source": [
    "print(f\"Nodos alcanzables desde A: {bfs(grafo, 'A')}\")"
   ]
  },
  {
   "cell_type": "code",
   "execution_count": 21,
   "metadata": {},
   "outputs": [
    {
     "name": "stdout",
     "output_type": "stream",
     "text": [
      "E\n",
      "F\n",
      "Nodos alcanzables desde E: ['E', 'F']\n"
     ]
    }
   ],
   "source": [
    "print(f\"Nodos alcanzables desde E: {bfs(grafo, 'E')}\")"
   ]
  },
  {
   "cell_type": "code",
   "execution_count": 22,
   "metadata": {},
   "outputs": [
    {
     "name": "stdout",
     "output_type": "stream",
     "text": [
      "G\n",
      "A\n",
      "F\n",
      "B\n",
      "C\n",
      "E\n",
      "D\n",
      "Nodos alcanzables desde G: ['G', 'A', 'F', 'B', 'C', 'E', 'D']\n"
     ]
    }
   ],
   "source": [
    "print(f\"Nodos alcanzables desde G: {bfs(grafo, 'G')}\")"
   ]
  },
  {
   "cell_type": "markdown",
   "metadata": {},
   "source": [
    "Haz el ejercicio de dibujar el grafo anterior, y ve como el algoritmo va recorriendo qué nodos. Como nuestra implementación usa una lista para guardar a los nodos visitados, se mantiene el orden en que fueron agregados. Revisa por qué tiene ese orden los nodos alcanzables de cada resultado."
   ]
  },
  {
   "cell_type": "markdown",
   "metadata": {},
   "source": [
    "### DFS\n",
    "\n",
    "Al igual que BFS, el algoritmo DFS recorre exhaustivamente el grafo, dado un punto de partida. Si un nodo no fue visitado en el recorrido, significa que **no es alcanzable** desde ese punto de partida.\n",
    "\n",
    "La diferencia con BFS es el orden en que se recorren los nodos. Como BFS es una búsqueda por nivel, encontrará los nodos según cuán lejos estén del punto de partida. Así, BFS garantiza que si se visitó al nodo $n_1$ antes que el nodo $n_2$, entonces $n_1$ está más cerca o a la misma distancia del punto de partida que $n_2$.\n",
    "\n",
    "Por otro lado, DFS explora **en profundidad** cada uno de los vecinos de un nodo (por eso se llama _depth_), intentando llegar lo más lejos que puede antes de devolverse. En otras palabras, explora cada rama completa antes de cambiar a otra rama. Generalmente se prefiere DFS en vez de BFS cuando se quieren visitar todos los nodos del grafo. \n",
    "\n",
    "DFS sí es un algoritmo recursivo (a diferencia de BFS) por lo que tiene dos formas de implementación: iterativa y recursiva."
   ]
  },
  {
   "cell_type": "markdown",
   "metadata": {},
   "source": [
    "#### Iterativa"
   ]
  },
  {
   "cell_type": "code",
   "execution_count": 80,
   "metadata": {},
   "outputs": [],
   "source": [
    "def dfs(grafo, inicio):\n",
    "    # Vamos a mantener un set con los nodos visitados.\n",
    "    visitados = set()\n",
    "\n",
    "    # El stack de siempre, comienza desde el nodo inicio.\n",
    "    stack = [inicio]\n",
    "\n",
    "    while len(stack) > 0:\n",
    "        vertice = stack.pop()\n",
    "        # Detalle clave: si ya visitamos el nodo, ¡no hacemos nada!\n",
    "        if vertice in visitados:\n",
    "            continue\n",
    "\n",
    "        # Lo visitamos\n",
    "        print(vertice)\n",
    "        visitados.add(vertice)\n",
    "\n",
    "        # Agregamos los vecinos al stack si es que no han sido visitados.\n",
    "        for vecino in grafo[vertice]:\n",
    "            if vecino not in visitados:\n",
    "                stack.append(vecino)\n",
    "\n",
    "    return list(visitados)"
   ]
  },
  {
   "cell_type": "code",
   "execution_count": 81,
   "metadata": {},
   "outputs": [
    {
     "name": "stdout",
     "output_type": "stream",
     "text": [
      "Bastián\n",
      "Antonio\n",
      "Florencia V\n",
      "Ivania\n",
      "Freddie\n",
      "Florencia B\n",
      "Matías\n"
     ]
    },
    {
     "data": {
      "text/plain": [
       "[Florencia B, Bastián, Matías, Florencia V, Freddie, Antonio, Ivania]"
      ]
     },
     "execution_count": 81,
     "metadata": {},
     "output_type": "execute_result"
    }
   ],
   "source": [
    "dfs(amistades, bamavrakis)"
   ]
  },
  {
   "cell_type": "code",
   "execution_count": 82,
   "metadata": {},
   "outputs": [
    {
     "name": "stdout",
     "output_type": "stream",
     "text": [
      "A\n",
      "C\n",
      "D\n",
      "B\n",
      "Nodos alcanzables desde A: ['B', 'A', 'D', 'C']\n"
     ]
    }
   ],
   "source": [
    "print(f\"Nodos alcanzables desde A: {dfs(grafo, 'A')}\")"
   ]
  },
  {
   "cell_type": "code",
   "execution_count": 83,
   "metadata": {},
   "outputs": [
    {
     "name": "stdout",
     "output_type": "stream",
     "text": [
      "E\n",
      "F\n",
      "Nodos alcanzables desde E: ['E', 'F']\n"
     ]
    }
   ],
   "source": [
    "print(f\"Nodos alcanzables desde E: {dfs(grafo, 'E')}\")"
   ]
  },
  {
   "cell_type": "code",
   "execution_count": 84,
   "metadata": {},
   "outputs": [
    {
     "name": "stdout",
     "output_type": "stream",
     "text": [
      "G\n",
      "F\n",
      "E\n",
      "A\n",
      "C\n",
      "D\n",
      "B\n",
      "Nodos alcanzables desde G: ['E', 'A', 'B', 'F', 'G', 'C', 'D']\n"
     ]
    }
   ],
   "source": [
    "print(f\"Nodos alcanzables desde G: {dfs(grafo, 'G')}\")"
   ]
  },
  {
   "cell_type": "markdown",
   "metadata": {},
   "source": [
    "Nota que los resultados (como conjuntos de nodos) son iguales que en BFS, pero el orden es lo que cambia. Revisa en este caso el por qué aparecen en el orden en que imprimen."
   ]
  },
  {
   "cell_type": "markdown",
   "metadata": {},
   "source": [
    "#### Recursiva"
   ]
  },
  {
   "cell_type": "code",
   "execution_count": 85,
   "metadata": {},
   "outputs": [],
   "source": [
    "# Vamos a mantener (como parámetro) un set con los nodos visitados.\n",
    "def dfs_recursivo(grafo, vertice, visitados=None):\n",
    "    visitados = visitados or set()\n",
    "\n",
    "    # Lo visitamos\n",
    "    print(vertice)\n",
    "    visitados.add(vertice)\n",
    "\n",
    "    for vecino in grafo[vertice]:\n",
    "        # Detalle clave: si ya visitamos el nodo, ¡no hacemos nada!\n",
    "        if vecino not in visitados:\n",
    "            dfs_recursivo(grafo, vecino, visitados)\n",
    "\n",
    "    return list(visitados)"
   ]
  },
  {
   "cell_type": "code",
   "execution_count": 86,
   "metadata": {},
   "outputs": [
    {
     "name": "stdout",
     "output_type": "stream",
     "text": [
      "Bastián\n",
      "Ivania\n",
      "Florencia B\n",
      "Matías\n",
      "Freddie\n",
      "Antonio\n",
      "Florencia V\n"
     ]
    },
    {
     "data": {
      "text/plain": [
       "[Florencia B, Bastián, Matías, Florencia V, Freddie, Antonio, Ivania]"
      ]
     },
     "execution_count": 86,
     "metadata": {},
     "output_type": "execute_result"
    }
   ],
   "source": [
    "dfs_recursivo(amistades, bamavrakis)"
   ]
  },
  {
   "cell_type": "markdown",
   "metadata": {},
   "source": [
    "**Puedes poner en práctica implementación de algoritmos de recorrido o ponerlos en uso en los ejercicios propuestos 3.1,\n",
    " 3.2, 3.3, 3.4 y 3.5.**"
   ]
  }
 ],
 "metadata": {
  "kernelspec": {
   "display_name": "Python 3",
   "language": "python",
   "name": "python3"
  },
  "language_info": {
   "codemirror_mode": {
    "name": "ipython",
    "version": 3
   },
   "file_extension": ".py",
   "mimetype": "text/x-python",
   "name": "python",
   "nbconvert_exporter": "python",
   "pygments_lexer": "ipython3",
   "version": "3.7.9"
  }
 },
 "nbformat": 4,
 "nbformat_minor": 2
}
