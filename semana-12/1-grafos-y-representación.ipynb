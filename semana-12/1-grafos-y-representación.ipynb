{
 "cells": [
  {
   "cell_type": "markdown",
   "metadata": {},
   "source": [
    "<p>\n",
    "<font size='5' face='Georgia, Arial'>IIC-2233 Apunte Programación Avanzada</font><br>\n",
    "<font size='1'>&copy; 2016-2017 Ivania Donoso - Antonio Ossa. Editado en 2018-2, 2019-1 y 2020-1 por Equipo Docente IIC2233.</font>\n",
    "</p>"
   ]
  },
  {
   "cell_type": "markdown",
   "metadata": {},
   "source": [
    "# Grafos\n",
    "\n",
    "Un grafo es un conjunto no vacío compuesto por nodos y por las relaciones entre estos nodos.\n",
    "En teoría de grafos, a los nodos se les llama **vértices**; y a las relaciones entre ellos, **aristas**. \n",
    "\n",
    "Los grafos pueden ser dirigidos o no dirigidos. Que un grafo sea dirigido significa que las relaciones entre los nodos **sí** tienen una orientación o dirección: si el nodo $A$ está relacionado con el nodo $B$, esto **no** significa que el nodo $B$ está relacionado con el nodo $A$ (siendo una relación no simétrica). En cambio, en los grafos no digiridos, las relaciones son simétricas: el nodo $A$ está relacionado con el nodo $B$, si y sólo si el nodo $B$ está relacionado con el nodo $A$.\n",
    "![ejemplo](img/grafos.png)"
   ]
  },
  {
   "cell_type": "markdown",
   "metadata": {},
   "source": [
    "En el ejemplo, notamos que el primer grafo las relaciones conectan los distintos nodos y no hay diferenciación de orientación. Mientras que en el segundo, tienen dirección. El nodo 1 se relaciona con el 2, pero el 2 no se relaciona con el 1. En cambio, los nodos 2 y 3 sí se relacionan entre sí, en ambas direcciones.\n",
    "\n",
    "Los grafos pueden ser vistos como una generalización de las dos estructuras que estudiamos previamente: **listas ligadas** y **árboles**. Ambos son casos de grafos con distintas reglas sobre su forma: linealidad (listas ligadas) y jerarquía (árboles). En grafos, en cambio, no hay condiciones sobre cómo se relacionan los vértices. En este curso, no estudiaremos [**teoría de grafos**](https://es.wikipedia.org/wiki/Teoría_de_grafos). Sólo nos limitaremos a estudiar las estructuras de datos que se usan para representarlos y operar con ellos. \n",
    "\n",
    "## Representación\n",
    "\n",
    "Existen múltiples formas para representar grafos. En este curso examinaremos tres de ellas: representación con nodos, listas de adyacencia y matrices de adyacencia. \n",
    "\n",
    "### Representación con nodos\n",
    "\n",
    "Esta es la forma más natural de representar un grafo: se define la clase nodo (`Nodo`), que tiene una lista de nodos a los cuales está relacionado directamente. En un grafo no dirijido, una conexión `(a, b)` será guardada dos veces: primero, en la lista de vecinos en `a` y segundo, en la lista de vecinos de `b`."
   ]
  },
  {
   "cell_type": "code",
   "execution_count": 2,
   "metadata": {},
   "outputs": [],
   "source": [
    "class Nodo:\n",
    "    \n",
    "    def __init__(self, valor):\n",
    "        self.valor = valor\n",
    "        self.vecinos = []\n",
    "        \n",
    "    def agregar_vecino(self, nodo):\n",
    "        self.vecinos.append(nodo)\n",
    "        \n",
    "    def __repr__(self):\n",
    "        texto = f\"[{self.valor}]\"\n",
    "        if len(self.vecinos) > 0:\n",
    "            textos_vecinos = [f\"[{vecino.valor}]\" for vecino in self.vecinos]\n",
    "            texto += \" -> \" + \", \".join(textos_vecinos)\n",
    "        return texto"
   ]
  },
  {
   "cell_type": "markdown",
   "metadata": {},
   "source": [
    "Vamos a crear el grafo _dirigido_ de la imagen de arriba:"
   ]
  },
  {
   "cell_type": "code",
   "execution_count": 4,
   "metadata": {},
   "outputs": [],
   "source": [
    "nodo_1 = Nodo(1)\n",
    "nodo_2 = Nodo(2)\n",
    "nodo_3 = Nodo(3)\n",
    "nodo_4 = Nodo(4)\n",
    "nodo_5 = Nodo(5)\n",
    "\n",
    "nodo_1.agregar_vecino(nodo_2)\n",
    "nodo_2.agregar_vecino(nodo_3) \n",
    "nodo_3.agregar_vecino(nodo_2) \n",
    "nodo_3.agregar_vecino(nodo_4)\n",
    "nodo_3.agregar_vecino(nodo_5) \n",
    "nodo_4.agregar_vecino(nodo_5)"
   ]
  },
  {
   "cell_type": "markdown",
   "metadata": {},
   "source": [
    "Este es el resultado, tal y como esperábamos."
   ]
  },
  {
   "cell_type": "code",
   "execution_count": 5,
   "metadata": {},
   "outputs": [
    {
     "name": "stdout",
     "output_type": "stream",
     "text": [
      "[1] -> [2]\n",
      "[2] -> [3]\n",
      "[3] -> [2], [4], [5]\n",
      "[4] -> [5]\n",
      "[5]\n"
     ]
    }
   ],
   "source": [
    "print(nodo_1)\n",
    "print(nodo_2)\n",
    "print(nodo_3)\n",
    "print(nodo_4)\n",
    "print(nodo_5)"
   ]
  },
  {
   "cell_type": "markdown",
   "metadata": {},
   "source": [
    "### Listas de adyacencia\n",
    "\n",
    "En esta representación todos los vértices se guardan en una estructura, y a su vez para cada uno de ellos se guarda una lista con los vértices con los que está relacionados. Los grafos de la imagen de arriba se representarían como:"
   ]
  },
  {
   "cell_type": "code",
   "execution_count": 6,
   "metadata": {},
   "outputs": [],
   "source": [
    "# Aquí usamos diccionarios con llave: int y valor: list porque ofrece más facilidad de búsqueda.\n",
    "# Cada llave del diccionario es el valor de un vertice, y el valor asociado es la lista de vertices con conexión.\n",
    "# También podrían ser list(tuple(int, list)). ¿Por qué no sería correcto hacer list(list(int, list))?\n",
    "\n",
    "grafo_no_dirigido = {1: [2], 2: [1, 3], 3: [2, 4, 5], 4: [3, 5], 5: [3, 4]}\n",
    "grafo_dirigido = {1: [2], 2: [3], 3: [2, 4, 5], 4: [5], 5: []}"
   ]
  },
  {
   "cell_type": "code",
   "execution_count": 8,
   "metadata": {},
   "outputs": [
    {
     "name": "stdout",
     "output_type": "stream",
     "text": [
      "[1, 2, 3, 4, 5]\n",
      "[2, 4, 5]\n"
     ]
    }
   ],
   "source": [
    "# ¿Vértices del grafo?\n",
    "print(list(grafo_no_dirigido.keys()))\n",
    "\n",
    "# ¿Vecinos de vértice 3 en grafo no dirigido?\n",
    "print(grafo_no_dirigido[3])"
   ]
  },
  {
   "cell_type": "markdown",
   "metadata": {},
   "source": [
    "### Matriz de adyacencia\n",
    "\n",
    "Son matrices de dos dimensiones de `NxN` (`N` siendo el número de vértices o nodos), donde las filas representan los vértices de origen y las columnas los vértices de llegada. Cada celda contiene un `1` o un `0`: si hay una arista que conecta al vértice de la fila con el vértice de de la columna, entonces contiene un `1`, en caso contrario, un `0`. Notar que esta representación solo contiene información sobre las conexiones, se debe realizar de forma aparte la asociación entre los índices de esta matriz y los valores que tiene un cada vértice. En Python las podemos representar con listas de listas, o generarlas utilizando bibliotecas especializadas para manejo de matrices como [`numpy`](http://www.numpy.org/).\n",
    "\n",
    "En un grafo no dirigido, la matriz será simétrica. En uno dirigido, no será (necesariamente) simétrica."
   ]
  },
  {
   "cell_type": "code",
   "execution_count": 9,
   "metadata": {},
   "outputs": [],
   "source": [
    "grafo_no_dirigido = [[0, 1, 0, 0, 0], [1, 0, 1, 0, 0], [0, 1, 0, 1, 1], [0, 0, 1, 0, 1], [0, 0, 1, 1, 0]]\n",
    "grafo_dirigido    = [[0, 1, 0, 0, 0], [0, 0, 1, 0, 0], [0, 1, 0, 1, 1], [0, 0, 0, 0, 1], [0, 0, 0, 0, 0]]"
   ]
  },
  {
   "cell_type": "code",
   "execution_count": 10,
   "metadata": {},
   "outputs": [
    {
     "name": "stdout",
     "output_type": "stream",
     "text": [
      "[0, 1, 0, 0, 0]\n",
      "[1, 0, 1, 0, 0]\n",
      "[0, 1, 0, 1, 1]\n",
      "[0, 0, 1, 0, 1]\n",
      "[0, 0, 1, 1, 0]\n"
     ]
    }
   ],
   "source": [
    "for fila in grafo_no_dirigido:\n",
    "    print(fila)"
   ]
  },
  {
   "cell_type": "code",
   "execution_count": 11,
   "metadata": {},
   "outputs": [
    {
     "name": "stdout",
     "output_type": "stream",
     "text": [
      "[0, 1, 0, 0, 0]\n",
      "[0, 0, 1, 0, 0]\n",
      "[0, 1, 0, 1, 1]\n",
      "[0, 0, 0, 0, 1]\n",
      "[0, 0, 0, 0, 0]\n"
     ]
    }
   ],
   "source": [
    "for fila in grafo_dirigido:\n",
    "    print(fila)"
   ]
  },
  {
   "cell_type": "code",
   "execution_count": 14,
   "metadata": {},
   "outputs": [
    {
     "data": {
      "text/plain": [
       "False"
      ]
     },
     "execution_count": 14,
     "metadata": {},
     "output_type": "execute_result"
    }
   ],
   "source": [
    "# ¿Están relacionados en el grafo dirigido el vértice 4 y 1?\n",
    "1 == grafo_dirigido[4 - 1][1 - 1] # Se le resta 1 porque los índices van desde 0 hasta N -1"
   ]
  },
  {
   "cell_type": "markdown",
   "metadata": {},
   "source": [
    "## Pesos en aristas\n",
    "\n",
    "Algunas representaciones de grafos incluyen asignarle pesos o valores a las aristas de un grafo. Esto permite diferenciar aún más las aristas. En la siguiente figura, se le asocia un valor numérico entero a cada arista:\n",
    "\n",
    "![ejemplo](img/grafos_y_pesos.png)\n",
    "\n",
    "El asignar valores a las aristas nos permite modelar situaciones más reales. Por ejemplo, modelar rutas entre ciudades. Cada ciudad puede ser un vértice en un grafo, y las aristas determinan si hay un camino directo entre dos ciudades. El peso de cada arista podría representar el tiempo que toma ir de una ciudad a otra. Es más, esos caminos tienen caracteristicas: distancia, condiciones climaticas, estado del camino, etc... Luego, las aristas podrían contener estos atributos que describen como se conectan distintas ciudades.\n",
    "\n",
    "Las representaciones vistas anteriormente solo incluyen una forma de modelar la presencia de una arista entre dos vértices, pero se pueden modificar fácilmente para incluir un valor asociado a cada arista."
   ]
  },
  {
   "cell_type": "markdown",
   "metadata": {},
   "source": [
    "**Puedes poner en práctica las distintas formas de representación de grafos realizando los ejercicios propuestos 1.1, 1.2 y 1.3.**"
   ]
  }
 ],
 "metadata": {
  "kernelspec": {
   "display_name": "Python 3",
   "language": "python",
   "name": "python3"
  },
  "language_info": {
   "codemirror_mode": {
    "name": "ipython",
    "version": 3
   },
   "file_extension": ".py",
   "mimetype": "text/x-python",
   "name": "python",
   "nbconvert_exporter": "python",
   "pygments_lexer": "ipython3",
   "version": "3.7.9"
  }
 },
 "nbformat": 4,
 "nbformat_minor": 1
}
