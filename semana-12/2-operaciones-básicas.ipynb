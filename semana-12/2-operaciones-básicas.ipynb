{
 "cells": [
  {
   "cell_type": "markdown",
   "metadata": {},
   "source": [
    "<p>\n",
    "<font size='5' face='Georgia, Arial'>IIC-2233 Apunte Programación Avanzada</font><br>\n",
    "<font size='1'>&copy; 2016-2017 Ivania Donoso - Antonio Ossa. Editado en 2018-2, 2019-1 y 2020-1 por Equipo Docente IIC2233.</font>\n",
    "</p>"
   ]
  },
  {
   "cell_type": "markdown",
   "metadata": {},
   "source": [
    "## Operaciones básicas en grafos\n",
    "\n",
    "Las operaciones básicas que se implementan para un grafo `G` son:\n",
    "\n",
    "**`adyacentes(G, x, y)`** verifica que exista una arista entre `x` e `y`, retorna un booleano.\n",
    "\n",
    "**`vecinos(G, x)`** entrega una lista con todos los vértices `y` tales que existe una arista entre `x` e `y`, retorna una lista de nodos.\n",
    "\n",
    "**`agregar_vertice(G, x)`** agrega el vértice `x`.\n",
    "\n",
    "**`remover_vertice(G, x)`** remueve el vértice `x`.\n",
    "\n",
    "**`agregar_arista(G, x, y)`** agrega una arista entre los vértices `x` e `y`.\n",
    "\n",
    "**`remover_arista(G, x, y)`** remueve la arista entre `x` e `y`."
   ]
  },
  {
   "cell_type": "markdown",
   "metadata": {},
   "source": [
    "Además de las operaciones mencionadas anteriormente, se pueden implementar funciones para obtener y fijar valores de vertices o aristas en el grafo. Estas no son consideradas necesariamente operaciones básicas de grafos, ya que su implementación depende fuertemente de la modelación y estructura utilizada. Utilizaremos las operaciones listadas como las básicas para el siguiente ejemplo."
   ]
  },
  {
   "cell_type": "markdown",
   "metadata": {},
   "source": [
    "## Ejemplo\n",
    "\n",
    "Supongamos que quieres representar a tus amigos como un grafo. **Cada nodo sería una persona**, y cada vez que un nodo $A$ se conecte con un nodo $B$ significa que **$A$ considera que $B$ es su amigo 😄**. No siempre esta relación es simétrica; es decir, no siempre nuestros amigos creen que somos sus amigos. De hecho, cerca de la mitad de las personas que consideramos nuestros amigos no nos consideran amigos suyos 😢 ([comprobado cientificamente](http://www.nytimes.com/2016/08/07/opinion/sunday/do-your-friends-actually-like-you.html)). Por lo tanto el grafo que tendremos que representar es un **grafo dirigido**.\n",
    "\n",
    "Partamos con la clase `Persona`."
   ]
  },
  {
   "cell_type": "code",
   "execution_count": 4,
   "metadata": {},
   "outputs": [],
   "source": [
    "class Persona:\n",
    "\n",
    "    def __init__(self, nombre, edad):\n",
    "        self.nombre = nombre\n",
    "        self.edad = edad\n",
    "\n",
    "    def __repr__(self):\n",
    "        return self.nombre"
   ]
  },
  {
   "cell_type": "markdown",
   "metadata": {},
   "source": [
    "Como dijimos, cada nodo es una persona. Para esto tenemos dos posibilidades: cada nodo tiene como valor a un objeto del tipo `Persona`, o cada Persona es un nodo en el grafo. Para este ejemplo, haremos lo primero. Crearemos una clase `Nodo` cuyo valor sea del tipo `Persona`. Esto simplemente es una decisión de modelación, donde `Nodo` es la clase para encapsular posibles valores, e independizarlo del tipo del valor que contiene, que en este caso son de la clase `Persona`.\n",
    "\n",
    "Si por ejemplo, la entidad `Persona` no tiene muchas funcionalidades y simplemente funciona como nodo, podría modelarse de la segunda forma."
   ]
  },
  {
   "cell_type": "code",
   "execution_count": 5,
   "metadata": {},
   "outputs": [],
   "source": [
    "class Nodo:\n",
    "\n",
    "    def __init__(self, valor):\n",
    "        self.valor = valor\n",
    "        \n",
    "    def __repr__(self):\n",
    "        return repr(self.valor)"
   ]
  },
  {
   "cell_type": "markdown",
   "metadata": {},
   "source": [
    "Ahora definimos la clase `Grafo` (representado como listas de adyacencia), sobre la cual realizaremos nuestras operaciones."
   ]
  },
  {
   "cell_type": "code",
   "execution_count": 6,
   "metadata": {},
   "outputs": [],
   "source": [
    "class Grafo:\n",
    "\n",
    "    def __init__(self, lista_adyacencia=None):\n",
    "        self.lista_adyacencia = lista_adyacencia or {}\n",
    "\n",
    "    def adyacentes(self, x, y):\n",
    "        return y in self.lista_adyacencia[x]\n",
    "\n",
    "    def vecinos(self, x):\n",
    "        return self.lista_adyacencia[x]\n",
    "\n",
    "    def agregar_vertice(self, x):\n",
    "        self.lista_adyacencia[x] = set()\n",
    "\n",
    "    def remover_vertice(self, x):\n",
    "        self.lista_adyacencia.pop(x, None)\n",
    "        for k, v in self.lista_adyacencia.items():\n",
    "            if x in v:\n",
    "                v.remove(x)\n",
    "\n",
    "    def agregar_arista(self, x, y):\n",
    "        if x in self.lista_adyacencia:\n",
    "            self.lista_adyacencia[x].add(y)\n",
    "\n",
    "    def remover_arista(self, x, y):\n",
    "        vecinos_x = self.lista_adyacencia.get(x, set())\n",
    "        if y in vecinos_x:\n",
    "            vecinos_x.remove(y)\n",
    "\n",
    "    def __repr__(self):\n",
    "        texto_nodos = []\n",
    "        for nodo, vecinos in self.lista_adyacencia.items():\n",
    "            texto_nodos.append(f\"Amigos de {nodo}: {vecinos}.\")\n",
    "        return \"\\n\".join(texto_nodos)"
   ]
  },
  {
   "cell_type": "markdown",
   "metadata": {},
   "source": [
    "Veamos cómo se llevan algunos ayudantes del curso.  \n",
    "(*Las opiniones vertidas en éste código son de exclusiva responsabilidad de quienes coordinaron el curso en el 2017-1 (a.k.a. Bastián) y no representan necesariamente el pensamiento de quien programó este código.*)"
   ]
  },
  {
   "cell_type": "code",
   "execution_count": 7,
   "metadata": {},
   "outputs": [
    {
     "data": {
      "text/plain": [
       "Amigos de Bastián: {Florencia B, Ivania, Matías, Florencia V, Freddie, Antonio}.\n",
       "Amigos de Florencia V: {Florencia B, Freddie, Ivania}.\n",
       "Amigos de Antonio: {Matías, Ivania, Florencia V}.\n",
       "Amigos de Matías: {Antonio, Freddie}.\n",
       "Amigos de Florencia B: {Antonio, Matías, Florencia V, Ivania}.\n",
       "Amigos de Ivania: {Antonio, Florencia B, Florencia V, Freddie}."
      ]
     },
     "execution_count": 7,
     "metadata": {},
     "output_type": "execute_result"
    }
   ],
   "source": [
    "# Creamos a nuestros ayudantes y los guardamos en nodos.\n",
    "bamavrakis = Nodo(Persona(\"Bastián\", 15))\n",
    "fvr1 = Nodo(Persona(\"Florencia V\", 20))\n",
    "aaossa = Nodo(Persona(\"Antonio\", 21))\n",
    "flobarrios = Nodo(Persona(\"Florencia B\", 20))\n",
    "mjjunemann = Nodo(Persona(\"Matías\", 20))\n",
    "fgvenegas = Nodo(Persona(\"Freddie\", 10))\n",
    "indonoso = Nodo(Persona(\"Ivania\", 22))\n",
    "\n",
    "# Definimos las amistades.\n",
    "amistades = {\n",
    "    bamavrakis: set([fvr1, aaossa, flobarrios, mjjunemann, fgvenegas, indonoso]),\n",
    "    fvr1: set([flobarrios, fgvenegas, indonoso]),\n",
    "    aaossa: set([fvr1, mjjunemann, indonoso]),\n",
    "    mjjunemann: set([aaossa, fgvenegas]),\n",
    "    flobarrios: set([fvr1, aaossa, mjjunemann, indonoso]),\n",
    "    indonoso: set([fvr1, aaossa, flobarrios, fgvenegas])\n",
    "}\n",
    "\n",
    "grafo = Grafo(amistades)\n",
    "grafo"
   ]
  },
  {
   "cell_type": "code",
   "execution_count": 8,
   "metadata": {},
   "outputs": [
    {
     "name": "stdout",
     "output_type": "stream",
     "text": [
      "Amigos de Freddie: set()\n",
      "Amigos de Freddie: {Antonio, Bastián}\n"
     ]
    }
   ],
   "source": [
    "# ¡Rayos! Nos olvidamos de un ayudante...\n",
    "# Siempre nos olvidamos de Freddie :(\n",
    "grafo.agregar_vertice(fgvenegas)\n",
    "print(f\"Amigos de Freddie: {grafo.vecinos(fgvenegas)}\")\n",
    "\n",
    "# Freddie dice que tiene algunos amigos.\n",
    "grafo.agregar_arista(fgvenegas, aaossa)\n",
    "grafo.agregar_arista(fgvenegas, bamavrakis)\n",
    "print(f\"Amigos de Freddie: {grafo.vecinos(fgvenegas)}\")\n",
    "\n",
    "# Y Jüne dice que Freddie es su amigo.\n",
    "grafo.agregar_arista(mjjunemann, fgvenegas)"
   ]
  },
  {
   "cell_type": "code",
   "execution_count": 9,
   "metadata": {},
   "outputs": [
    {
     "data": {
      "text/plain": [
       "Amigos de Bastián: {Florencia B, Ivania, Matías, Freddie, Antonio}.\n",
       "Amigos de Antonio: {Matías, Ivania}.\n",
       "Amigos de Matías: {Antonio, Freddie}.\n",
       "Amigos de Florencia B: {Antonio, Matías, Ivania}.\n",
       "Amigos de Ivania: {Antonio, Florencia B, Freddie}.\n",
       "Amigos de Freddie: {Antonio, Bastián}."
      ]
     },
     "execution_count": 9,
     "metadata": {},
     "output_type": "execute_result"
    }
   ],
   "source": [
    "# A Flory le cae mal Freddie, así que renuncia.\n",
    "grafo.remover_vertice(fvr1)\n",
    "grafo"
   ]
  },
  {
   "cell_type": "markdown",
   "metadata": {},
   "source": [
    "**Puedes poner en práctica el uso de operaciones sobre grafos realizando los ejercicios propuestos 2.1 y 2.2.**"
   ]
  }
 ],
 "metadata": {
  "kernelspec": {
   "display_name": "Python 3",
   "language": "python",
   "name": "python3"
  },
  "language_info": {
   "codemirror_mode": {
    "name": "ipython",
    "version": 3
   },
   "file_extension": ".py",
   "mimetype": "text/x-python",
   "name": "python",
   "nbconvert_exporter": "python",
   "pygments_lexer": "ipython3",
   "version": "3.7.9"
  }
 },
 "nbformat": 4,
 "nbformat_minor": 2
}
