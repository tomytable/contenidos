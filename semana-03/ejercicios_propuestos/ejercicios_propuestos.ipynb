{
 "cells": [
  {
   "cell_type": "markdown",
   "metadata": {},
   "source": [
    "<p>\n",
    "<font size='5' face='Georgia, Arial'>IIC-2233 Apunte Programación Avanzada</font><br>\n",
    "<font size='1'> Ejercicios creados a partir de 2019-2 por Equipo Docente IIC2233. </font>\n",
    "<font size='1'> Actualizados en 2020-1 y 2020-2.</font>\n",
    "</p>\n",
    "\n",
    "\n",
    "# Ejercicios propuestos: Programación Orientada a Objetos II"
   ]
  },
  {
   "cell_type": "markdown",
   "metadata": {},
   "source": [
    "Los siguientes problemas se proveen como oportunidad de ejercitar los conceptos revisados en el material de **Programación Orientada a Objetos II**. Si tienes dudas sobre algún problema o alguna solución, no dudes en dejar una *issue* en el [foro del curso](https://github.com/IIC2233/syllabus/issues).\n",
    "\n",
    "Los ejercicios se subdividen según la numeración de los cuadernos de la semana. Algunos de ellos se referencian desde los cuadernos de material mismo, mientras que pueden haber otros adicionales para mayor ejercitación."
   ]
  },
  {
   "cell_type": "markdown",
   "metadata": {},
   "source": [
    "## 1. Diagrama de clases"
   ]
  },
  {
   "cell_type": "markdown",
   "metadata": {},
   "source": [
    "### Ejercicio 1.1: De código a diagrama: `GoT`"
   ]
  },
  {
   "cell_type": "markdown",
   "metadata": {},
   "source": [
    "Lamentablemente existen ayudantes que aún no pueden superar el hecho que Game of Thrones se haya terminado (sobre todo con ese final). Pero de todas maneras quieren recomendarles la serie y van a hacer todo lo posible para que durante este semestre te tientes a verla. Es por esto que han creado un ejercicio en el que **debes crear un diagrama de clases a partir del siguiente código** (sin *spoilers*) para que vayas familiarizándote con la serie y te prepares para el enredo familiar que cada personaje tiene.\n",
    "\n",
    "Para las distintas clases, dentro de sus constructores se colocan atributos que poseen, la mayoría inicializados como `None` por simplicidad, pero se dejan comentados sus tipos reales para mayor claridad de modelación. También, se dejan las firmas de los distintos métodos a considerar, pero vacias las implementaciones por simplicidad."
   ]
  },
  {
   "cell_type": "code",
   "execution_count": null,
   "metadata": {},
   "outputs": [],
   "source": [
    "class Humano:\n",
    "\n",
    "    def __init__(self):\n",
    "        self.nombre = None # str\n",
    "        self.edad = None # int\n",
    "\n",
    "    def comer(self):\n",
    "        pass\n",
    "\n",
    "    def pelear(self):\n",
    "        pass\n",
    "\n",
    "\n",
    "class LoboGuargo:\n",
    "\n",
    "    def __init__(self):\n",
    "        self.nombre = None # str\n",
    "        self.ataque = None # int\n",
    "        self.color = None # str\n",
    "\n",
    "    def cazar(self):\n",
    "        pass\n",
    "\n",
    "    def atacar(self):\n",
    "        pass\n",
    "\n",
    "\n",
    "class Stark:\n",
    "\n",
    "    def __init__(self):\n",
    "        self.resistencia_al_frio = None # int\n",
    "        self.lobo_de_mascota = LoboGuargo() # LoboGuargo\n",
    "\n",
    "    def rezar_a_los_antiguos(self):\n",
    "        pass\n",
    "\n",
    "\n",
    "class GuardiaDeLaNoche:\n",
    "\n",
    "    def __init__(self):\n",
    "        self.rango = None # str\n",
    "\n",
    "    def cuidar_el_muro(self):\n",
    "        pass\n",
    "\n",
    "    \n",
    "class ReyDelNorte(Humano, Stark):\n",
    "\n",
    "    def __init__(self):\n",
    "        self.poder = None # int\n",
    "        self.espada_ice = None # bool\n",
    "\n",
    "    def ejecutar_culpables(self):\n",
    "        pass\n",
    "\n",
    "\n",
    "class NedStark(ReyDelNorte):\n",
    "\n",
    "    def __init__(self):\n",
    "        self.familia = None # list[Humanos]\n",
    "        self.honor = None # int\n",
    "\n",
    "    def tomar_decision_importante(self):\n",
    "        pass\n",
    "\n",
    "\n",
    "class JonSnow(Humano, Stark, GuardiaDeLaNoche):\n",
    "\n",
    "    def __init__(self):\n",
    "        self.padre = NedStark() # NedStark\n",
    "        self.bastardo = None # bool\n",
    "\n",
    "\n",
    "class GoT:\n",
    "\n",
    "    def __init__(self):\n",
    "        self.rating = None # int\n",
    "        self.personaje_principal = JonSnow() # JonSnow\n",
    "        self.personaje_mas_bacan = NedStark() # NedStark\n",
    "\n",
    "    def empezar_a_ver_la_serie(self):\n",
    "        print('Excelente decision, disfrute')"
   ]
  },
  {
   "cell_type": "markdown",
   "metadata": {},
   "source": [
    "Puedes partir dibujando a mano el diagrama, pero también existen aplicaciones para realizarlas digitalmente, como [draw.io](https://www.draw.io), [lucidchart](https://www.lucidchart.com) o aplicaciones similares."
   ]
  },
  {
   "cell_type": "markdown",
   "metadata": {},
   "source": [
    "### Ejercicio 1.2: De diagrama a código: `GrandPrix`"
   ]
  },
  {
   "cell_type": "markdown",
   "metadata": {},
   "source": [
    "Ahora deberás hacer el proceso inverso de lo que se hizo en el ejercicio anterior. A continuación se te presentará un diagrama de clases basado en la nueva serie favorita de este ayudante (*F1: Drive to Survive*, disponible en *Netflix*) el que deberás pasar a código (puedes usar como referencia el código entregado en el ejercicio anterior).\n",
    "\n",
    "![](img/DiagramaGrandPrix.png)\n"
   ]
  },
  {
   "cell_type": "code",
   "execution_count": null,
   "metadata": {},
   "outputs": [],
   "source": [
    "# Escribe aquí tu código"
   ]
  },
  {
   "cell_type": "markdown",
   "metadata": {},
   "source": [
    "## 2. Multiherencia"
   ]
  },
  {
   "cell_type": "markdown",
   "metadata": {},
   "source": [
    "### Ejercicio 2.1: `Hijos de Burro`"
   ]
  },
  {
   "cell_type": "markdown",
   "metadata": {},
   "source": [
    "\n",
    "![](img/burritos.jpg)\n"
   ]
  },
  {
   "cell_type": "markdown",
   "metadata": {},
   "source": [
    "Al igual que todo el mundo, eres un fanático de **Shrek**, y siempre te ha llamado la atención los hijos de Burro y la Dragona. Estás muy contento porque en **Programación Avanzada** te enseñaron multiherencia y al fin podrás modelar estas particulares criaturas.\n",
    "\n",
    "Tienes la clase `Burro` y la clase `Dragona`, solo debes completar el código de la clase `HijoBurro`, ¡y habrás cumplido tu misión!\n"
   ]
  },
  {
   "cell_type": "code",
   "execution_count": 3,
   "metadata": {},
   "outputs": [],
   "source": [
    "class Burro:\n",
    "    \"\"\"Clase de Burro\"\"\"\n",
    "\n",
    "    def __init__(self, **kwargs):\n",
    "        super().__init__(**kwargs)\n",
    "        self.cancion = \"Estoy solito, no hay nadie aqui a mi lado (8)\"\n",
    "\n",
    "    def cantar(self):\n",
    "        print(self.cancion)\n",
    "\n",
    "\n",
    "class  Dragona:\n",
    "    \"\"\"Clase de Dragona\"\"\"\n",
    "\n",
    "    def __init__(self, **kwargs):\n",
    "        super().__init__(**kwargs)\n",
    "        self.fuego = \"Estoy escupiendo fuego\"\n",
    "\n",
    "    def escupir_fuego(self):\n",
    "        print(self.fuego)\n",
    "\n",
    "\n",
    "class HijoBurro(Burro, Dragona):\n",
    "    def __init__(self, **kwargs):\n",
    "        super().__init__(**kwargs)\n",
    "\n",
    "    pass"
   ]
  },
  {
   "cell_type": "markdown",
   "metadata": {},
   "source": [
    "Si lo hiciste correctamente el siguiente codigo no debería tirar error."
   ]
  },
  {
   "cell_type": "code",
   "execution_count": 5,
   "metadata": {
    "tags": []
   },
   "outputs": [
    {
     "output_type": "stream",
     "name": "stdout",
     "text": "Hola, soy hijo de Burro y la dragona y puedo cantar como mi padre...\nEstoy solito, no hay nadie aqui a mi lado (8)\nY escupir fuego como mi madre...\nEstoy escupiendo fuego\n"
    }
   ],
   "source": [
    "hijo_burro = HijoBurro()\n",
    "print(\"Hola, soy hijo de Burro y la dragona y puedo cantar como mi padre...\")\n",
    "hijo_burro.cantar()\n",
    "print(\"Y escupir fuego como mi madre...\")\n",
    "hijo_burro.escupir_fuego()"
   ]
  },
  {
   "cell_type": "markdown",
   "metadata": {},
   "source": [
    "### Ejercicio 2.2: Bonito Diamante"
   ]
  },
  {
   "cell_type": "markdown",
   "metadata": {},
   "source": [
    "El DCC estuvo tratando de modelar el funcionamiento del cuerpo de ayudantes, sin embargo tuvieron complicaciones con la creación de clases y nadie ha podido resolver el modelo. Debes usar el siguiente método y el siguiente atributo. Ten en cuenta que si ejecutas el código en la celda arrojará un error, pues estos métodos están pensados para que los **copies y pegues** dentro de una clase:"
   ]
  },
  {
   "cell_type": "code",
   "execution_count": null,
   "metadata": {},
   "outputs": [],
   "source": [
    "# Método a copiar\n",
    "def asistir_a_catedra(self):  \n",
    "    print('¡¡Voy a la cátedra!!')\n",
    "\n",
    "# Atributo a copiar\n",
    "self.mensaje_de_apoyo = mensaje"
   ]
  },
  {
   "cell_type": "markdown",
   "metadata": {},
   "source": [
    "**Atención**: Tienes ciertas restricciones.\n",
    "- Solo puedes copiar y pegar el atributo y el método, **no puedes agregar nada más**\n",
    "- Solo puedes copiar **una vez** el atributo y el método, por lo que debes escoger bien en qué clase quedará.\n",
    "\n",
    "\n",
    "Es por esto que debes escoger bien en qué clases implementarás el método y el atributo. Si tu elección es la correcta, el código del final debe ejecutarse sin problemas."
   ]
  },
  {
   "cell_type": "code",
   "execution_count": null,
   "metadata": {},
   "outputs": [],
   "source": [
    "class FullDocencia:\n",
    "\n",
    "    def __init__(self, nombre, mensaje):\n",
    "        self.nombre = nombre\n",
    "\n",
    "    def mostrar_apoyo(self):\n",
    "        print(f'Vamos, tú puedes, {self.mensaje_de_apoyo}')\n",
    "\n",
    "\n",
    "class FullTarea:  # La condicion es que FullTarea nunca ejecutará su método\n",
    "\n",
    "    def __init__(self, nombre, mensaje):\n",
    "        self.nombre = nombre\n",
    "\n",
    "    def ayudar_en_catedra(self):\n",
    "        # ¿Y de donde sacará este atributo?\n",
    "        print(f'{self.mensaje_de_apoyo}!!')\n",
    "\n",
    "\n",
    "class HibridoTarea(FullTarea, FullDocencia):\n",
    "\n",
    "    def __init__(self, nombre, mensaje):\n",
    "        FullTarea.__init__(self, nombre, mensaje)\n",
    "        FullDocencia.__init__(self,nombre, mensaje)\n",
    "\n",
    "\n",
    "class HibridoDocencia(FullDocencia, FullTarea):\n",
    "\n",
    "    def __init__(self, nombre, mensaje):\n",
    "        FullDocencia.__init__(self,nombre, mensaje)\n",
    "        FullTarea.__init__(self, nombre, mensaje)\n",
    "\n",
    "\n",
    "# ¿Puedes identificar a estos ayudantes?\n",
    "ay_1 = HibridoTarea('Antonio Aguilar', 'Ánimo que se puede')\n",
    "ay_2 = HibridoDocencia('Jorge Negrete', 'Da lo mejor de ti') \n",
    "ay_3 = FullTarea('Miguel Aceves Mejía', '¡¡Siempre hay una segunda oportunidad!!')  \n",
    "ay_4 = FullDocencia('Pedro Infante', 'Un tropezon no es caida') # Parcial\n",
    "\n",
    "ay_2.asistir_a_catedra()\n",
    "ay_1.asistir_a_catedra()\n",
    "\n",
    "ay_2.mostrar_apoyo()\n",
    "ay_1.mostrar_apoyo()\n",
    "ay_4.mostrar_apoyo()"
   ]
  },
  {
   "cell_type": "markdown",
   "metadata": {},
   "source": [
    "Si lograste hacer funcionar el código, podrás haber notado que éste presenta una restricción en particular para que funcione. \n",
    "\n",
    "¿Es correcta esta forma de modelar? ¿Es válida esa restricción al modelo? ¿Se puede hacer de manera distinta?"
   ]
  },
  {
   "cell_type": "markdown",
   "metadata": {},
   "source": [
    "## 3. Clases Abstractas"
   ]
  },
  {
   "cell_type": "markdown",
   "metadata": {},
   "source": [
    "### Ejercicio 3.1: `Concurso de Hamburguesas`"
   ]
  },
  {
   "cell_type": "markdown",
   "metadata": {},
   "source": [
    "Quedan pocos días para que comience el mejor concurso de hamburguesas del país, y para eso sus organizadores te han pedido a ti que registres los datos de cada hamburguesería en el concurso y hagas de este *Top Burger* su mejor versión. Para esto debes crear una clase `Hamburgueseria`, de la que hereden los dos tipos de `Hamburgueseria` que se pueden inscribir, que son `HamburgueseriaVegana` y `HamburgueseriaCarnivora`, con los siguientes métodos:\n",
    "\n",
    "1. **`promedio_evaluaciones`**: calcula el promedio de las evaluaciones hechas a las hamburguesas del local. Una `HamburgueseriaVegana` solo ofrece versión *veggie*, mientras que la `HamburgueseriaCarnivora` solo tiene opción carnívora, así que debes retornar un `float` con el promedio de las evaluaciones. Asume que los atributos `evaluaciones_veggie` y `evaluaciones_carnivora` son listas con enteros que corresponden a las evaluaciones.\n",
    "2. **`restar_stock`**: descuenta en uno la cantidad de *stock* de un tipo de hamburguesas, es decir, altera el valor del atributo  `stock`. En el caso de ambos tipos de hamburguesería no se entregará un parámetro a esta función y solo debes restarle uno al *stock* (`stock` es un `int`).\n",
    "3. **`numero_clientes`** para ambas hamburgeserías corresponde al largo de la lista de clientes y retornarlo.\n",
    "\n",
    "Cabe recordar que en este concurso no puede existir una `Hamburgueseria` por si misma, sino que solo puede ser una `HamburgueseriaVegana` o una `HamburgueseriaCarnivora`.\n",
    "\n",
    "Puedes usar el siguiente código de base para la creación de las clases. Recuerda utilizar las declaraciones del módulo `abc` marcar la clase abstracta y métodos abstractos."
   ]
  },
  {
   "cell_type": "code",
   "execution_count": null,
   "metadata": {},
   "outputs": [],
   "source": [
    "from abc import ABC, abstractmethod\n",
    "\n",
    "\n",
    "class Hamburgueseria:\n",
    "\n",
    "    def __init__ (self, clientes, stock):\n",
    "        self.stock = stock\n",
    "        self.clientes = clientes\n",
    "\n",
    "    def promedio_evaluaciones(self):\n",
    "        pass\n",
    "\n",
    "    def restar_stock(self):\n",
    "        pass\n",
    "\n",
    "    def numero_clientes(self):\n",
    "        pass\n",
    "\n",
    "\n",
    "class HamburgueseriaVegana:\n",
    "    # recuerda que deben heredar\n",
    "\n",
    "    def __init__(self, clientes, stock, evaluaciones_veggie):\n",
    "        super().__init__(clientes, stock)\n",
    "        self.evaluaciones_veggie = evaluaciones_veggie\n",
    "\n",
    "\n",
    "class HamburgueseriaCarnivora:\n",
    "    #recuerda que deben heredar\n",
    "\n",
    "    def __init__(self, clientes, stock, evaluaciones_carnivora):\n",
    "        super().__init__(clientes, stock)\n",
    "        self.evaluaciones_carnivora = evaluaciones_carnivora"
   ]
  },
  {
   "cell_type": "markdown",
   "metadata": {},
   "source": [
    "### Ejercicio 3.2: Más personajes."
   ]
  },
  {
   "cell_type": "markdown",
   "metadata": {},
   "source": [
    "Para continuar con el ejemplo del [cuaderno sobre clases abstractas](https://github.com/IIC2233/contenidos/blob/master/semana-03/3-clases-abstractas.ipynb), extiende y crea más subclases para la clase `Personaje` definida. Recuerda que para cada una solo es necesario implementar los métodos abstractos. Crea al menos dos subclases nuevas que se comporten distinto a los ejemplos de `Jugador` y `Enemigo`. Se te adjunta el código original de `Personaje` como refencia:"
   ]
  },
  {
   "cell_type": "code",
   "execution_count": null,
   "metadata": {},
   "outputs": [],
   "source": [
    "from abc import ABC, abstractmethod\n",
    "from random import randint\n",
    "from time import sleep\n",
    "\n",
    "\n",
    "class Personaje(ABC):\n",
    "\n",
    "    def __init__(self, nombre, x, y, energia):\n",
    "        self.nombre = nombre\n",
    "        self.x = x\n",
    "        self.y = y\n",
    "        self.energia = energia\n",
    "\n",
    "    @property\n",
    "    def energia(self):\n",
    "        return self.__energia\n",
    "\n",
    "    @energia.setter\n",
    "    def energia(self, valor):\n",
    "        self.__energia = max(valor, 0)\n",
    "\n",
    "    def simular(self):\n",
    "        while self.energia > 0:\n",
    "            sleep(1)\n",
    "            self.saludar()\n",
    "            self.moverse()\n",
    "            self.gastar_energia()\n",
    "        print(\"Perdí toda mi energía :(\")\n",
    "\n",
    "    @abstractmethod\n",
    "    def moverse(self):\n",
    "        pass\n",
    "\n",
    "    @abstractmethod\n",
    "    def gastar_energia(self):\n",
    "        pass\n",
    "\n",
    "    @abstractmethod\n",
    "    def saludar(self):\n",
    "        print(f\"Soy {self.nombre}. Estoy en {(self.x, self.y)}.\")"
   ]
  }
 ],
 "metadata": {
  "kernelspec": {
   "display_name": "Python 3",
   "language": "python",
   "name": "python3"
  },
  "language_info": {
   "codemirror_mode": {
    "name": "ipython",
    "version": 3
   },
   "file_extension": ".py",
   "mimetype": "text/x-python",
   "name": "python",
   "nbconvert_exporter": "python",
   "pygments_lexer": "ipython3",
   "version": "3.7.4-final"
  }
 },
 "nbformat": 4,
 "nbformat_minor": 2
}